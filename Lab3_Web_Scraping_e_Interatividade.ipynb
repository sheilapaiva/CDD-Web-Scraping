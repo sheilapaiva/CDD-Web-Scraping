{
  "nbformat": 4,
  "nbformat_minor": 0,
  "metadata": {
    "colab": {
      "provenance": []
    },
    "kernelspec": {
      "name": "python3",
      "display_name": "Python 3"
    },
    "language_info": {
      "name": "python"
    }
  },
  "cells": [
    {
      "cell_type": "markdown",
      "source": [
        "# CDD - Lab3\n",
        "\n",
        "Web Scraping (com Scrapy) e Interatividade (com Plotly)\n",
        "\n",
        "## Instruções\n",
        "\n",
        "O objetivo deste lab é aplicar os conceitos básicos aprendidos em sala sobre web scraping e interatividade. A avaliação do lab será realizada a partir do preenchimento deste notebook. Preencha os campos indicados.\n",
        "\n",
        "Atividade individual.\n",
        "\n",
        "Composição da nota:\n",
        "\n",
        "* Web scraping: 70%\n",
        "* interatividade: 30%\n"
      ],
      "metadata": {
        "id": "Edi3NRZ69el4"
      }
    },
    {
      "cell_type": "markdown",
      "source": [
        "## Preencher:\n",
        "\n",
        "**Nome:** Sheila Maria Mendes Paiva\n",
        "\n",
        "**Matrícula:** 118210186\n"
      ],
      "metadata": {
        "id": "NN4WKMQxHLlo"
      }
    },
    {
      "cell_type": "code",
      "source": [],
      "metadata": {
        "id": "1uR_HJKfJrlp"
      },
      "execution_count": null,
      "outputs": []
    },
    {
      "cell_type": "markdown",
      "source": [
        "## Entrega: Repositório (Código + Dados)\n",
        "\n",
        "Informe na próxima célula o link para o repositório do github com código (arquivo spider - .py) e csv. \n",
        "Será avaliado o código e o csv de resultado final (esses arquivos devem estar no repositório).\n",
        "\n",
        "\n",
        "\n",
        "\n"
      ],
      "metadata": {
        "id": "zHXaVexr_AD6"
      }
    },
    {
      "cell_type": "markdown",
      "source": [
        "[LINK GITHUB](https://github.com/sheilapaiva/CDD-Web-Scraping.git)"
      ],
      "metadata": {
        "id": "heE3-Qtj3kTa"
      }
    },
    {
      "cell_type": "markdown",
      "source": [
        "## Imports"
      ],
      "metadata": {
        "id": "MnT8hddeI2PM"
      }
    },
    {
      "cell_type": "code",
      "source": [
        "import pandas as pd\n",
        "import numpy as np\n",
        "# bibliotecas para trabalhar offline com a biblioteca\n",
        "import plotly\n",
        "import plotly.offline as py\n",
        "import plotly.graph_objs as go # criará de fato os gráficos\n",
        "from plotly.offline import plot, iplot\n",
        "import cufflinks as cf # para conectar o plotly ao pandas\n",
        "cf.go_offline()\n",
        "plotly.offline.init_notebook_mode(connected = True)\n",
        "import plotly.express as px"
      ],
      "metadata": {
        "id": "7xv2ntAWI4YN",
        "colab": {
          "base_uri": "https://localhost:8080/",
          "height": 17
        },
        "outputId": "ea486fd4-aa96-4442-da9f-842b618116b5"
      },
      "execution_count": 38,
      "outputs": [
        {
          "output_type": "display_data",
          "data": {
            "text/html": [
              "        <script type=\"text/javascript\">\n",
              "        window.PlotlyConfig = {MathJaxConfig: 'local'};\n",
              "        if (window.MathJax) {MathJax.Hub.Config({SVG: {font: \"STIX-Web\"}});}\n",
              "        if (typeof require !== 'undefined') {\n",
              "        require.undef(\"plotly\");\n",
              "        requirejs.config({\n",
              "            paths: {\n",
              "                'plotly': ['https://cdn.plot.ly/plotly-2.8.3.min']\n",
              "            }\n",
              "        });\n",
              "        require(['plotly'], function(Plotly) {\n",
              "            window._Plotly = Plotly;\n",
              "        });\n",
              "        }\n",
              "        </script>\n",
              "        "
            ]
          },
          "metadata": {}
        },
        {
          "output_type": "display_data",
          "data": {
            "text/html": [
              "        <script type=\"text/javascript\">\n",
              "        window.PlotlyConfig = {MathJaxConfig: 'local'};\n",
              "        if (window.MathJax) {MathJax.Hub.Config({SVG: {font: \"STIX-Web\"}});}\n",
              "        if (typeof require !== 'undefined') {\n",
              "        require.undef(\"plotly\");\n",
              "        requirejs.config({\n",
              "            paths: {\n",
              "                'plotly': ['https://cdn.plot.ly/plotly-2.8.3.min']\n",
              "            }\n",
              "        });\n",
              "        require(['plotly'], function(Plotly) {\n",
              "            window._Plotly = Plotly;\n",
              "        });\n",
              "        }\n",
              "        </script>\n",
              "        "
            ]
          },
          "metadata": {}
        }
      ]
    },
    {
      "cell_type": "code",
      "source": [
        "import plotly.io as pio\n",
        "pio.renderers"
      ],
      "metadata": {
        "colab": {
          "base_uri": "https://localhost:8080/"
        },
        "id": "1aMG1ZAGiD1R",
        "outputId": "8546687b-6039-46da-9f8c-0caada3ad45c"
      },
      "execution_count": 39,
      "outputs": [
        {
          "output_type": "execute_result",
          "data": {
            "text/plain": [
              "Renderers configuration\n",
              "-----------------------\n",
              "    Default renderer: 'plotly_mimetype+notebook_connected'\n",
              "    Available renderers:\n",
              "        ['plotly_mimetype', 'jupyterlab', 'nteract', 'vscode',\n",
              "         'notebook', 'notebook_connected', 'kaggle', 'azure', 'colab',\n",
              "         'cocalc', 'databricks', 'json', 'png', 'jpeg', 'jpg', 'svg',\n",
              "         'pdf', 'browser', 'firefox', 'chrome', 'chromium', 'iframe',\n",
              "         'iframe_connected', 'sphinx_gallery', 'sphinx_gallery_png']"
            ]
          },
          "metadata": {},
          "execution_count": 39
        }
      ]
    },
    {
      "cell_type": "code",
      "source": [
        "pio.renderers.default = 'colab'"
      ],
      "metadata": {
        "id": "UKDESlUQiaS3"
      },
      "execution_count": 40,
      "outputs": []
    },
    {
      "cell_type": "markdown",
      "source": [
        "## Carregando o dataset"
      ],
      "metadata": {
        "id": "0O519uJb_sMy"
      }
    },
    {
      "cell_type": "code",
      "source": [
        "# 1. Copie seu CSV para o google drive\n",
        "# 2. Compartilhe com a opção \"Qualquer pessoa com o link pode ver\"\n",
        "# 3. Identifique o ID do arquivo na URL, copie-o e cole-o onde está indicado a seguir. \n",
        "#\n",
        "# Por exemplo:\n",
        "# Para a URL https://drive.google.com/file/d/1Az7TTtxvBZeRdIUvCT6KPqI9qirmkLSA/view?usp=sharing\n",
        "# O ID seria: 1Az7TTtxvBZeRdIUvCT6KPqI9qirmkLSA\n",
        "\n",
        "df_h = pd.read_csv('https://docs.google.com/uc?export=download&id=1VE2mxKFggFyc_wrQMhCgEy3j38WJqJmD')\n",
        "df_m = pd.read_csv('https://docs.google.com/uc?export=download&id=1MJ8hgC5hNJzIYzXXtbEGpWdK4dXNXe98')"
      ],
      "metadata": {
        "id": "-t27SZ8p_0hl"
      },
      "execution_count": 41,
      "outputs": []
    },
    {
      "cell_type": "markdown",
      "source": [
        "## Pré-processamento, limpeza, transformações, etc\n"
      ],
      "metadata": {
        "id": "ukDQmZch_3N7"
      }
    },
    {
      "cell_type": "code",
      "source": [
        "#Concatenando os Dataframes\n",
        "df = pd.concat([df_h, df_m], ignore_index = True)\n",
        "\n",
        "#Convertendo os valores das colunas em float\n",
        "df.iloc[:, 9:].astype(float)\n",
        "\n",
        "df"
      ],
      "metadata": {
        "id": "l328nWBhBsjY",
        "colab": {
          "base_uri": "https://localhost:8080/",
          "height": 904
        },
        "outputId": "3ae647a0-b39a-419f-f0d4-9d2dc6663b02"
      },
      "execution_count": 42,
      "outputs": [
        {
          "output_type": "execute_result",
          "data": {
            "text/plain": [
              "                                       nome genero  presenca_plenario  \\\n",
              "0    FERNANDO BEZERRA DE SOUZA COELHO FILHO      H               81.0   \n",
              "1                 FREDERICO BORGES DA COSTA      H               83.0   \n",
              "2                           ANTONIO RIBEIRO      H               86.0   \n",
              "3          FLAVIANO FLÁVIO BAPTISTA DE MELO      H               82.0   \n",
              "4                    FRANCO CARTAFINA GOMES      H               86.0   \n",
              "..                                      ...    ...                ...   \n",
              "444                 LEDA MARIA SADALA BRITO      M               72.0   \n",
              "445                       LEANDRE DAL PONTE      M               80.0   \n",
              "446                  LÍDICE DA MATA E SOUZA      M               89.0   \n",
              "447                  LIZIANE BAYER DA COSTA      M               92.0   \n",
              "448      LUISA CANZIANI DOS SANTOS SILVEIRA      M               82.0   \n",
              "\n",
              "     ausencia_justificada_plenario  ausencia_nao_justificada_plenario  \\\n",
              "0                              5.0                                6.0   \n",
              "1                              9.0                                0.0   \n",
              "2                              6.0                                0.0   \n",
              "3                             10.0                                0.0   \n",
              "4                              3.0                                3.0   \n",
              "..                             ...                                ...   \n",
              "444                           18.0                                2.0   \n",
              "445                           10.0                                2.0   \n",
              "446                            3.0                                0.0   \n",
              "447                            0.0                                0.0   \n",
              "448                            0.0                               10.0   \n",
              "\n",
              "     presenca_comissao  ausencia_justificada_comissao  \\\n",
              "0                  6.0                            4.0   \n",
              "1                 14.0                            1.0   \n",
              "2                 30.0                            4.0   \n",
              "3                  3.0                            0.0   \n",
              "4                 44.0                            4.0   \n",
              "..                 ...                            ...   \n",
              "444               24.0                            8.0   \n",
              "445               31.0                            4.0   \n",
              "446               56.0                            4.0   \n",
              "447               54.0                            1.0   \n",
              "448               18.0                            0.0   \n",
              "\n",
              "     ausencia_nao_justificada_comissao data_nascimento  quant_viagem  ...  \\\n",
              "0                                 39.0      28/02/1984             0  ...   \n",
              "1                                  5.0      12/07/1977             0  ...   \n",
              "2                                 14.0      03/03/1944             0  ...   \n",
              "3                                  1.0      17/11/1949             0  ...   \n",
              "4                                 15.0      03/11/1986             0  ...   \n",
              "..                                 ...             ...           ...  ...   \n",
              "444                               15.0      11/06/1966             0  ...   \n",
              "445                               23.0      20/12/1975             1  ...   \n",
              "446                                0.0      12/03/1956             0  ...   \n",
              "447                               18.0      24/01/1981             1  ...   \n",
              "448                               48.0      11/04/1996             0  ...   \n",
              "\n",
              "     gasto_fev_gab  gasto_mar_gab  gasto_abr_gab  gasto_maio_gab  \\\n",
              "0        106461.21      106461.21      106461.21       107548.75   \n",
              "1        108567.01      109305.97      109305.97       109563.08   \n",
              "2        110889.19      110889.19      110313.55       109560.78   \n",
              "3        107983.89      111367.03      111659.62       111659.62   \n",
              "4        110962.06      110962.06      110962.06       111166.17   \n",
              "..             ...            ...            ...             ...   \n",
              "444      111306.30      109662.60      107931.96       110017.93   \n",
              "445      108159.67      109633.48      109791.39       109791.39   \n",
              "446      109880.24      107918.25      107472.66       111089.52   \n",
              "447      104592.92      102932.25      102694.30       104044.41   \n",
              "448      107944.29      101185.89      106123.31       110764.80   \n",
              "\n",
              "     gasto_junho_gab  gasto_jul_gab  gasto_agosto_gab  gasto_set_gab  \\\n",
              "0          111277.47      111277.47         110295.40      110786.15   \n",
              "1          108452.71      101554.25         109006.01      107977.56   \n",
              "2          110047.86      110889.19         110889.19      110889.19   \n",
              "3          111659.62      111659.62         110227.30      110179.56   \n",
              "4          111568.67      111568.67         111568.67      111568.67   \n",
              "..               ...            ...               ...            ...   \n",
              "444        110446.45      110633.94         109994.10      111659.63   \n",
              "445        110801.97      109549.18         111428.41      111307.87   \n",
              "446        111089.52      111089.52         111089.52      111089.52   \n",
              "447        103593.63      105180.10         107815.81      109597.20   \n",
              "448        108871.95      100476.78          99154.41      109664.15   \n",
              "\n",
              "     gasto_out_gab  gasto_nov_gab  \n",
              "0        110786.15              0  \n",
              "1        103926.38              0  \n",
              "2        110889.19              0  \n",
              "3        110179.56              0  \n",
              "4        111568.67              0  \n",
              "..             ...            ...  \n",
              "444      108861.12              0  \n",
              "445      111307.87              0  \n",
              "446      111089.52              0  \n",
              "447      109597.20              0  \n",
              "448      110012.04              0  \n",
              "\n",
              "[449 rows x 35 columns]"
            ],
            "text/html": [
              "\n",
              "  <div id=\"df-8e95b4c9-7711-42f0-b15b-bb05cf31dee2\">\n",
              "    <div class=\"colab-df-container\">\n",
              "      <div>\n",
              "<style scoped>\n",
              "    .dataframe tbody tr th:only-of-type {\n",
              "        vertical-align: middle;\n",
              "    }\n",
              "\n",
              "    .dataframe tbody tr th {\n",
              "        vertical-align: top;\n",
              "    }\n",
              "\n",
              "    .dataframe thead th {\n",
              "        text-align: right;\n",
              "    }\n",
              "</style>\n",
              "<table border=\"1\" class=\"dataframe\">\n",
              "  <thead>\n",
              "    <tr style=\"text-align: right;\">\n",
              "      <th></th>\n",
              "      <th>nome</th>\n",
              "      <th>genero</th>\n",
              "      <th>presenca_plenario</th>\n",
              "      <th>ausencia_justificada_plenario</th>\n",
              "      <th>ausencia_nao_justificada_plenario</th>\n",
              "      <th>presenca_comissao</th>\n",
              "      <th>ausencia_justificada_comissao</th>\n",
              "      <th>ausencia_nao_justificada_comissao</th>\n",
              "      <th>data_nascimento</th>\n",
              "      <th>quant_viagem</th>\n",
              "      <th>...</th>\n",
              "      <th>gasto_fev_gab</th>\n",
              "      <th>gasto_mar_gab</th>\n",
              "      <th>gasto_abr_gab</th>\n",
              "      <th>gasto_maio_gab</th>\n",
              "      <th>gasto_junho_gab</th>\n",
              "      <th>gasto_jul_gab</th>\n",
              "      <th>gasto_agosto_gab</th>\n",
              "      <th>gasto_set_gab</th>\n",
              "      <th>gasto_out_gab</th>\n",
              "      <th>gasto_nov_gab</th>\n",
              "    </tr>\n",
              "  </thead>\n",
              "  <tbody>\n",
              "    <tr>\n",
              "      <th>0</th>\n",
              "      <td>FERNANDO BEZERRA DE SOUZA COELHO FILHO</td>\n",
              "      <td>H</td>\n",
              "      <td>81.0</td>\n",
              "      <td>5.0</td>\n",
              "      <td>6.0</td>\n",
              "      <td>6.0</td>\n",
              "      <td>4.0</td>\n",
              "      <td>39.0</td>\n",
              "      <td>28/02/1984</td>\n",
              "      <td>0</td>\n",
              "      <td>...</td>\n",
              "      <td>106461.21</td>\n",
              "      <td>106461.21</td>\n",
              "      <td>106461.21</td>\n",
              "      <td>107548.75</td>\n",
              "      <td>111277.47</td>\n",
              "      <td>111277.47</td>\n",
              "      <td>110295.40</td>\n",
              "      <td>110786.15</td>\n",
              "      <td>110786.15</td>\n",
              "      <td>0</td>\n",
              "    </tr>\n",
              "    <tr>\n",
              "      <th>1</th>\n",
              "      <td>FREDERICO BORGES DA COSTA</td>\n",
              "      <td>H</td>\n",
              "      <td>83.0</td>\n",
              "      <td>9.0</td>\n",
              "      <td>0.0</td>\n",
              "      <td>14.0</td>\n",
              "      <td>1.0</td>\n",
              "      <td>5.0</td>\n",
              "      <td>12/07/1977</td>\n",
              "      <td>0</td>\n",
              "      <td>...</td>\n",
              "      <td>108567.01</td>\n",
              "      <td>109305.97</td>\n",
              "      <td>109305.97</td>\n",
              "      <td>109563.08</td>\n",
              "      <td>108452.71</td>\n",
              "      <td>101554.25</td>\n",
              "      <td>109006.01</td>\n",
              "      <td>107977.56</td>\n",
              "      <td>103926.38</td>\n",
              "      <td>0</td>\n",
              "    </tr>\n",
              "    <tr>\n",
              "      <th>2</th>\n",
              "      <td>ANTONIO RIBEIRO</td>\n",
              "      <td>H</td>\n",
              "      <td>86.0</td>\n",
              "      <td>6.0</td>\n",
              "      <td>0.0</td>\n",
              "      <td>30.0</td>\n",
              "      <td>4.0</td>\n",
              "      <td>14.0</td>\n",
              "      <td>03/03/1944</td>\n",
              "      <td>0</td>\n",
              "      <td>...</td>\n",
              "      <td>110889.19</td>\n",
              "      <td>110889.19</td>\n",
              "      <td>110313.55</td>\n",
              "      <td>109560.78</td>\n",
              "      <td>110047.86</td>\n",
              "      <td>110889.19</td>\n",
              "      <td>110889.19</td>\n",
              "      <td>110889.19</td>\n",
              "      <td>110889.19</td>\n",
              "      <td>0</td>\n",
              "    </tr>\n",
              "    <tr>\n",
              "      <th>3</th>\n",
              "      <td>FLAVIANO FLÁVIO BAPTISTA DE MELO</td>\n",
              "      <td>H</td>\n",
              "      <td>82.0</td>\n",
              "      <td>10.0</td>\n",
              "      <td>0.0</td>\n",
              "      <td>3.0</td>\n",
              "      <td>0.0</td>\n",
              "      <td>1.0</td>\n",
              "      <td>17/11/1949</td>\n",
              "      <td>0</td>\n",
              "      <td>...</td>\n",
              "      <td>107983.89</td>\n",
              "      <td>111367.03</td>\n",
              "      <td>111659.62</td>\n",
              "      <td>111659.62</td>\n",
              "      <td>111659.62</td>\n",
              "      <td>111659.62</td>\n",
              "      <td>110227.30</td>\n",
              "      <td>110179.56</td>\n",
              "      <td>110179.56</td>\n",
              "      <td>0</td>\n",
              "    </tr>\n",
              "    <tr>\n",
              "      <th>4</th>\n",
              "      <td>FRANCO CARTAFINA GOMES</td>\n",
              "      <td>H</td>\n",
              "      <td>86.0</td>\n",
              "      <td>3.0</td>\n",
              "      <td>3.0</td>\n",
              "      <td>44.0</td>\n",
              "      <td>4.0</td>\n",
              "      <td>15.0</td>\n",
              "      <td>03/11/1986</td>\n",
              "      <td>0</td>\n",
              "      <td>...</td>\n",
              "      <td>110962.06</td>\n",
              "      <td>110962.06</td>\n",
              "      <td>110962.06</td>\n",
              "      <td>111166.17</td>\n",
              "      <td>111568.67</td>\n",
              "      <td>111568.67</td>\n",
              "      <td>111568.67</td>\n",
              "      <td>111568.67</td>\n",
              "      <td>111568.67</td>\n",
              "      <td>0</td>\n",
              "    </tr>\n",
              "    <tr>\n",
              "      <th>...</th>\n",
              "      <td>...</td>\n",
              "      <td>...</td>\n",
              "      <td>...</td>\n",
              "      <td>...</td>\n",
              "      <td>...</td>\n",
              "      <td>...</td>\n",
              "      <td>...</td>\n",
              "      <td>...</td>\n",
              "      <td>...</td>\n",
              "      <td>...</td>\n",
              "      <td>...</td>\n",
              "      <td>...</td>\n",
              "      <td>...</td>\n",
              "      <td>...</td>\n",
              "      <td>...</td>\n",
              "      <td>...</td>\n",
              "      <td>...</td>\n",
              "      <td>...</td>\n",
              "      <td>...</td>\n",
              "      <td>...</td>\n",
              "      <td>...</td>\n",
              "    </tr>\n",
              "    <tr>\n",
              "      <th>444</th>\n",
              "      <td>LEDA MARIA SADALA BRITO</td>\n",
              "      <td>M</td>\n",
              "      <td>72.0</td>\n",
              "      <td>18.0</td>\n",
              "      <td>2.0</td>\n",
              "      <td>24.0</td>\n",
              "      <td>8.0</td>\n",
              "      <td>15.0</td>\n",
              "      <td>11/06/1966</td>\n",
              "      <td>0</td>\n",
              "      <td>...</td>\n",
              "      <td>111306.30</td>\n",
              "      <td>109662.60</td>\n",
              "      <td>107931.96</td>\n",
              "      <td>110017.93</td>\n",
              "      <td>110446.45</td>\n",
              "      <td>110633.94</td>\n",
              "      <td>109994.10</td>\n",
              "      <td>111659.63</td>\n",
              "      <td>108861.12</td>\n",
              "      <td>0</td>\n",
              "    </tr>\n",
              "    <tr>\n",
              "      <th>445</th>\n",
              "      <td>LEANDRE DAL PONTE</td>\n",
              "      <td>M</td>\n",
              "      <td>80.0</td>\n",
              "      <td>10.0</td>\n",
              "      <td>2.0</td>\n",
              "      <td>31.0</td>\n",
              "      <td>4.0</td>\n",
              "      <td>23.0</td>\n",
              "      <td>20/12/1975</td>\n",
              "      <td>1</td>\n",
              "      <td>...</td>\n",
              "      <td>108159.67</td>\n",
              "      <td>109633.48</td>\n",
              "      <td>109791.39</td>\n",
              "      <td>109791.39</td>\n",
              "      <td>110801.97</td>\n",
              "      <td>109549.18</td>\n",
              "      <td>111428.41</td>\n",
              "      <td>111307.87</td>\n",
              "      <td>111307.87</td>\n",
              "      <td>0</td>\n",
              "    </tr>\n",
              "    <tr>\n",
              "      <th>446</th>\n",
              "      <td>LÍDICE DA MATA E SOUZA</td>\n",
              "      <td>M</td>\n",
              "      <td>89.0</td>\n",
              "      <td>3.0</td>\n",
              "      <td>0.0</td>\n",
              "      <td>56.0</td>\n",
              "      <td>4.0</td>\n",
              "      <td>0.0</td>\n",
              "      <td>12/03/1956</td>\n",
              "      <td>0</td>\n",
              "      <td>...</td>\n",
              "      <td>109880.24</td>\n",
              "      <td>107918.25</td>\n",
              "      <td>107472.66</td>\n",
              "      <td>111089.52</td>\n",
              "      <td>111089.52</td>\n",
              "      <td>111089.52</td>\n",
              "      <td>111089.52</td>\n",
              "      <td>111089.52</td>\n",
              "      <td>111089.52</td>\n",
              "      <td>0</td>\n",
              "    </tr>\n",
              "    <tr>\n",
              "      <th>447</th>\n",
              "      <td>LIZIANE BAYER DA COSTA</td>\n",
              "      <td>M</td>\n",
              "      <td>92.0</td>\n",
              "      <td>0.0</td>\n",
              "      <td>0.0</td>\n",
              "      <td>54.0</td>\n",
              "      <td>1.0</td>\n",
              "      <td>18.0</td>\n",
              "      <td>24/01/1981</td>\n",
              "      <td>1</td>\n",
              "      <td>...</td>\n",
              "      <td>104592.92</td>\n",
              "      <td>102932.25</td>\n",
              "      <td>102694.30</td>\n",
              "      <td>104044.41</td>\n",
              "      <td>103593.63</td>\n",
              "      <td>105180.10</td>\n",
              "      <td>107815.81</td>\n",
              "      <td>109597.20</td>\n",
              "      <td>109597.20</td>\n",
              "      <td>0</td>\n",
              "    </tr>\n",
              "    <tr>\n",
              "      <th>448</th>\n",
              "      <td>LUISA CANZIANI DOS SANTOS SILVEIRA</td>\n",
              "      <td>M</td>\n",
              "      <td>82.0</td>\n",
              "      <td>0.0</td>\n",
              "      <td>10.0</td>\n",
              "      <td>18.0</td>\n",
              "      <td>0.0</td>\n",
              "      <td>48.0</td>\n",
              "      <td>11/04/1996</td>\n",
              "      <td>0</td>\n",
              "      <td>...</td>\n",
              "      <td>107944.29</td>\n",
              "      <td>101185.89</td>\n",
              "      <td>106123.31</td>\n",
              "      <td>110764.80</td>\n",
              "      <td>108871.95</td>\n",
              "      <td>100476.78</td>\n",
              "      <td>99154.41</td>\n",
              "      <td>109664.15</td>\n",
              "      <td>110012.04</td>\n",
              "      <td>0</td>\n",
              "    </tr>\n",
              "  </tbody>\n",
              "</table>\n",
              "<p>449 rows × 35 columns</p>\n",
              "</div>\n",
              "      <button class=\"colab-df-convert\" onclick=\"convertToInteractive('df-8e95b4c9-7711-42f0-b15b-bb05cf31dee2')\"\n",
              "              title=\"Convert this dataframe to an interactive table.\"\n",
              "              style=\"display:none;\">\n",
              "        \n",
              "  <svg xmlns=\"http://www.w3.org/2000/svg\" height=\"24px\"viewBox=\"0 0 24 24\"\n",
              "       width=\"24px\">\n",
              "    <path d=\"M0 0h24v24H0V0z\" fill=\"none\"/>\n",
              "    <path d=\"M18.56 5.44l.94 2.06.94-2.06 2.06-.94-2.06-.94-.94-2.06-.94 2.06-2.06.94zm-11 1L8.5 8.5l.94-2.06 2.06-.94-2.06-.94L8.5 2.5l-.94 2.06-2.06.94zm10 10l.94 2.06.94-2.06 2.06-.94-2.06-.94-.94-2.06-.94 2.06-2.06.94z\"/><path d=\"M17.41 7.96l-1.37-1.37c-.4-.4-.92-.59-1.43-.59-.52 0-1.04.2-1.43.59L10.3 9.45l-7.72 7.72c-.78.78-.78 2.05 0 2.83L4 21.41c.39.39.9.59 1.41.59.51 0 1.02-.2 1.41-.59l7.78-7.78 2.81-2.81c.8-.78.8-2.07 0-2.86zM5.41 20L4 18.59l7.72-7.72 1.47 1.35L5.41 20z\"/>\n",
              "  </svg>\n",
              "      </button>\n",
              "      \n",
              "  <style>\n",
              "    .colab-df-container {\n",
              "      display:flex;\n",
              "      flex-wrap:wrap;\n",
              "      gap: 12px;\n",
              "    }\n",
              "\n",
              "    .colab-df-convert {\n",
              "      background-color: #E8F0FE;\n",
              "      border: none;\n",
              "      border-radius: 50%;\n",
              "      cursor: pointer;\n",
              "      display: none;\n",
              "      fill: #1967D2;\n",
              "      height: 32px;\n",
              "      padding: 0 0 0 0;\n",
              "      width: 32px;\n",
              "    }\n",
              "\n",
              "    .colab-df-convert:hover {\n",
              "      background-color: #E2EBFA;\n",
              "      box-shadow: 0px 1px 2px rgba(60, 64, 67, 0.3), 0px 1px 3px 1px rgba(60, 64, 67, 0.15);\n",
              "      fill: #174EA6;\n",
              "    }\n",
              "\n",
              "    [theme=dark] .colab-df-convert {\n",
              "      background-color: #3B4455;\n",
              "      fill: #D2E3FC;\n",
              "    }\n",
              "\n",
              "    [theme=dark] .colab-df-convert:hover {\n",
              "      background-color: #434B5C;\n",
              "      box-shadow: 0px 1px 3px 1px rgba(0, 0, 0, 0.15);\n",
              "      filter: drop-shadow(0px 1px 2px rgba(0, 0, 0, 0.3));\n",
              "      fill: #FFFFFF;\n",
              "    }\n",
              "  </style>\n",
              "\n",
              "      <script>\n",
              "        const buttonEl =\n",
              "          document.querySelector('#df-8e95b4c9-7711-42f0-b15b-bb05cf31dee2 button.colab-df-convert');\n",
              "        buttonEl.style.display =\n",
              "          google.colab.kernel.accessAllowed ? 'block' : 'none';\n",
              "\n",
              "        async function convertToInteractive(key) {\n",
              "          const element = document.querySelector('#df-8e95b4c9-7711-42f0-b15b-bb05cf31dee2');\n",
              "          const dataTable =\n",
              "            await google.colab.kernel.invokeFunction('convertToInteractive',\n",
              "                                                     [key], {});\n",
              "          if (!dataTable) return;\n",
              "\n",
              "          const docLinkHtml = 'Like what you see? Visit the ' +\n",
              "            '<a target=\"_blank\" href=https://colab.research.google.com/notebooks/data_table.ipynb>data table notebook</a>'\n",
              "            + ' to learn more about interactive tables.';\n",
              "          element.innerHTML = '';\n",
              "          dataTable['output_type'] = 'display_data';\n",
              "          await google.colab.output.renderOutput(dataTable, element);\n",
              "          const docLink = document.createElement('div');\n",
              "          docLink.innerHTML = docLinkHtml;\n",
              "          element.appendChild(docLink);\n",
              "        }\n",
              "      </script>\n",
              "    </div>\n",
              "  </div>\n",
              "  "
            ]
          },
          "metadata": {},
          "execution_count": 42
        }
      ]
    },
    {
      "cell_type": "markdown",
      "source": [
        "## Entrega: Gráficos Interativos\n",
        "\n",
        "Use **Plotly** (pode ser plotly express, se preferir)\n"
      ],
      "metadata": {
        "id": "Ilg0qX7FB0TE"
      }
    },
    {
      "cell_type": "markdown",
      "source": [
        "**Questão 1**: Para cada gênero qual o nome dos  deputados(as) que tiveram maior quantidade de presença no plenário? (dica: scatter plot com mouse over)"
      ],
      "metadata": {
        "id": "LxVdlzdcQ9VF"
      }
    },
    {
      "cell_type": "code",
      "source": [
        "fig = px.scatter(df, y='presenca_plenario', symbol='genero', color='genero',\n",
        "                 size='presenca_plenario', hover_data=['nome'])\n",
        "fig.update_layout(\n",
        "    title = {\n",
        "      'text' : '<b>' + 'Presença no plenário para cada gênero' + '</b>',\n",
        "      'x' : 0.5,\n",
        "      'xanchor': 'center'\n",
        "    },\n",
        "    xaxis = {'title': 'Índice'},\n",
        "    yaxis = {'title': 'Total de presenças no plenário'}\n",
        ")\n",
        "fig.show()"
      ],
      "metadata": {
        "colab": {
          "base_uri": "https://localhost:8080/",
          "height": 542
        },
        "id": "qYdQDaj9EkS0",
        "outputId": "df5f48df-b66c-4df6-91bc-386e57d2d467"
      },
      "execution_count": 48,
      "outputs": [
        {
          "output_type": "display_data",
          "data": {
            "text/html": [
              "<html>\n",
              "<head><meta charset=\"utf-8\" /></head>\n",
              "<body>\n",
              "    <div>            <script src=\"https://cdnjs.cloudflare.com/ajax/libs/mathjax/2.7.5/MathJax.js?config=TeX-AMS-MML_SVG\"></script><script type=\"text/javascript\">if (window.MathJax) {MathJax.Hub.Config({SVG: {font: \"STIX-Web\"}});}</script>                <script type=\"text/javascript\">window.PlotlyConfig = {MathJaxConfig: 'local'};</script>\n",
              "        <script src=\"https://cdn.plot.ly/plotly-2.8.3.min.js\"></script>                <div id=\"a7372e4b-2548-48bc-b054-9bf8cfce7194\" class=\"plotly-graph-div\" style=\"height:525px; width:100%;\"></div>            <script type=\"text/javascript\">                                    window.PLOTLYENV=window.PLOTLYENV || {};                                    if (document.getElementById(\"a7372e4b-2548-48bc-b054-9bf8cfce7194\")) {                    Plotly.newPlot(                        \"a7372e4b-2548-48bc-b054-9bf8cfce7194\",                        [{\"customdata\":[[\"FERNANDO BEZERRA DE SOUZA COELHO FILHO\"],[\"FREDERICO BORGES DA COSTA\"],[\"ANTONIO RIBEIRO\"],[\"FLAVIANO FL\\u00c1VIO BAPTISTA DE MELO\"],[\"FRANCO CARTAFINA GOMES\"],[\"FILIPE BARROS BAPTISTA DE TOLEDO RIBEIRO\"],[\"FL\\u00c1VIO RODRIGUES NOGUEIRA\"],[\"FRANCISCO RODRIGUES VALE JUNIOR\"],[\"FERNANDO MONTEIRO DE ALBUQUERQUE\"],[\"FERNANDO RODOLFO TENORIO DE VASCONCELOS\"],[\"GELSON DE AZEVEDO ALMEIDA\"],[\"GENECIAS MATEUS NORONHA\"],[\"ELI\\u00c9SER GIR\\u00c3O MONTEIRO FILHO\"],[\"ROBERTO SEBASTI\\u00c3O PETERNELLI JUNIOR\"],[\"GERV\\u00c1SIO AGRIPINO MAIA\"],[\"FERNANDO L\\u00daCIO GIACOBO\"],[\"GILLIANO FRED NASCIMENTO CUTRIM\"],[\"EUGENIO JOS\\u00c9 ZULIANI\"],[\"GILBERTO NASCIMENTO SILVA\"],[\"GILSON MARQUES VIEIRA\"],[\"GIOVANI CHERINI\"],[\"GILBERTO APARECIDO ABRAMO\"],[\"DANIEL GOMES DE ALMEIDA\"],[\"GIOVANI BATISTA FELTES\"],[\"DANIEL PIRES COELHO\"],[\"DANIEL LUCIO DA SILVEIRA\"],[\"DANIEL COSTA DE FREITAS\"],[\"DAVID MICHAEL DOS SANTOS MIRANDA\"],[\"DAVID BEZERRA RIBEIRO SOARES\"],[\"DANIEL TRZECIAK DUARTE\"],[\"DANILO JORGE DE BARROS CABRAL\"],[\"FRANCISCO DANILO BASTOS FORTE\"],[\"DARCI DE MATOS\"],[\"DANRLEI DE DEUS HINTERHOLZ\"],[\"ANT\\u00d4NIO DA LUZ FURTADO\"],[\"PABLO OLIVA SOUZA\"],[\"EDER MAURO CARDOSO BARRA\"],[\"MARCELO EDUARDO FREITAS\"],[\"WALDIR SOARES DE OLIVEIRA\"],[\"DENIS ANDERSON DA ROCHA BEZERRA\"],[\"DIEGO LEONARDO DE ANDRADE CARVALHO\"],[\"DIEGO ALEXSANDER GONCALO PAULA GARCIA\"],[\"DIMAS FABIANO TOLEDO J\\u00daNIOR\"],[\"LUIZ ANTONIO DE SOUZA TEIXEIRA J\\u00daNIOR\"],[\"DOMINGOS GOMES DE AGUIAR NETO\"],[\"JAZIEL PEREIRA DE SOUSA\"],[\"DOMINGOS S\\u00c1VIO CAMPOS RESENDE\"],[\"FREDERICO DE CASTRO ESCALEIRA\"],[\"LEONARDO RIBEIRO ALBUQUERQUE\"],[\"LUIZ ALBERTO OVANDO\"],[\"ZACARIAS CALIL HAMU\"],[\"EDILAZIO GOMES DA SILVA JUNIOR\"],[\"\\u00c9DIO VIEIRA LOPES\"],[\"EDUARDO LUIZ BARROS BARBOSA\"],[\"EDUARDO HENRIQUE MAIA BISMARCK\"],[\"EDUARDO NANTES BOLSONARO\"],[\"JOSE EDUARDO PEREIRA DA COSTA\"],[\"ADRIANO ELI CORR\\u00caA\"],[\"ELIAS VAZ DE ANDRADE\"],[\"ELMAR JOSE VIEIRA NASCIMENTO\"],[\"EDUARDO HENRIQUE DA FONTE DE ALBUQUERQUE SILVA\"],[\"EDUARDO PEDROSA CURY\"],[\"EFRAIM DE ARA\\u00daJO MORAIS FILHO\"],[\"EMIDIO ALVES MADEIRA JUNIOR\"],[\"EMANUEL PINHEIRO DA SILVA PRIMO\"],[\"ENIO JOS\\u00c9 VERRI\"],[\"ENRICO VAN BLARCUM DE GRAAFF MISASI\"],[\"EXPEDITO GONCALVES FERREIRA NETTO\"],[\"EROS FERREIRA BIONDINI\"],[\"EUCLYDES MARCOS PETTERSEN NETO\"],[\"FABIO DE ALMEIDA REIS\"],[\"EVAIR VIEIRA DE MELO\"],[\"FABIO HENRIQUE SANTANA DE CARVALHO\"],[\"F\\u00c1BIO AUGUSTO RAMALHO DOS SANTOS\"],[\"FABIO CRUZ MITIDIERI\"],[\"FAUSTO RUY PINATO\"],[\"F\\u00c1BIO LUIZ SCHIOCHET FILHO\"],[\"F\\u00c1BIO RICARDO TRAD\"],[\"FEL\\u00cdCIO LATER\\u00c7A DE ALMEIDA\"],[\"CASSIO COELHO ANDRADE\"],[\"FELIPE AUGUSTO LYRA CARRERAS\"],[\"LUIS FELIPE BONATTO FRANCISCHINI\"],[\"FELIPE RIGONI LOPES\"],[\"FELIX DE ALMEIDA MENDON\\u00c7A J\\u00daNIOR\"],[\"JOS\\u00c9 CARLOS VERAS DOS SANTOS\"],[\"CARLOS ALBERTO ROLIM ZARATTINI\"],[\"CELIO ANTONIO DA SILVEIRA\"],[\"CELIO ALVES DE MOURA\"],[\"CELIO STUDART BARBOSA\"],[\"CELSO MALDANER\"],[\"CELSO SABINO DE OLIVEIRA\"],[\"ANTONIO CEZAR CORREIA FREIRE\"],[\"CHARLES FERNANDES SILVEIRA SANTANA\"],[\"CHARLLES THOMACELLI EVANGELISTA\"],[\"CELSO UBIRAJARA RUSSOMANNO\"],[\"ELI DIAS BORGES\"],[\"FRANCISCO JOS\\u00c9 D'ANGELO PINTO\"],[\"JO\\u00c3O FRANCISCO IN\\u00c1CIO BRAZ\\u00c3O\"],[\"CLEBER VERDE CORDEIRO MENDES\"],[\"CHRISTINO AUREO DA SILVA\"],[\"LUIZ ARMANDO SCHROEDER REIS\"],[\"JO\\u00c3O CHRIS\\u00d3STOMO DE MOURA\"],[\"CL\\u00c1UDIO CAJADO SAMPAIO\"],[\"MARCIO TADEU ANHAIA DE LEMOS\"],[\"LUIS ANTONIO FRANCISCATTO COVATTI\"],[\"CRISTIANO DUTRA VALE\"],[\"JOSIAS MARIO DA VITORIA\"],[\"JO\\u00c3O CARLOS SOARES GURGEL\"],[\"DAGOBERTO NOGUEIRA FILHO\"],[\"GLAUSKSTON BATISTA RIOS\"],[\"DAMI\\u00c3O FELICIANO DA SILVA\"],[\"LUIZ GONZAGA PATRIOTA\"],[\"GLAUBER DE MEDEIROS BRAGA\"],[\"JOS\\u00c9 GUILHERME NEGR\\u00c3O PEIXOTO\"],[\"GUILHERME MUSSI FERREIRA\"],[\"GUSTAVO BONATO FRUET\"],[\"LUIZ AUGUSTO CARVALHO RIBEIRO FILHO\"],[\"HELIO LEITE DA SILVA\"],[\"HEITOR RODRIGO PEREIRA FREIRE\"],[\"HAROLDO ALVES CAMPOS\"],[\"HEITOR JOSE SCHUCH\"],[\"HELDER IGNACIO SALOMAO\"],[\"H\\u00c9LIO FRANCISCO DA COSTA\"],[\"GUTEMBERG REIS DE OLIVEIRA\"],[\"HENRIQUE FONTANA J\\u00daNIOR\"],[\"HELIO FERNANDO BARBOSA LOPES\"],[\"HERC\\u00cdLIO ARA\\u00daJO DINIZ FILHO\"],[\"HERCULANO CASTILHO PASSOS JUNIOR\"],[\"HERMES PARCIANELLO\"],[\"HUMBERTO REZENDE PEREIRA\"],[\"HILDO AUGUSTO DA ROCHA NETO\"],[\"HIRAN MANUEL GONCALVES DA SILVA\"],[\"HUGO LEAL MELO DA SILVA\"],[\"HUGO MOTTA WANDERLEY DA N\\u00d3BREGA\"],[\"LUIZ BENES LEOCADIO DE ARAUJO\"],[\"JOS\\u00c9 ROBERTO OLIVEIRA FARO\"],[\"CARLOS ALBERTO DE SOUSA ROSADO SEGUNDO\"],[\"UBIRAJARA DO PINDAR\\u00c9 ALMEIDA SOUSA\"],[\"ALCIBIO MESQUITA BIBO NUNES\"],[\"OLAVO BILAC PINTO NETO\"],[\"CARLOS FELIPE VAZQUEZ DE SOUZA LE\\u00c3O\"],[\"JO\\u00c3O BOSCO GOMES SARAIVA\"],[\"ELVINO JOS\\u00c9 BOHN GASS\"],[\"NICOLINO BOZZELLA JUNIOR\"],[\"JO\\u00c3O BOSCO DA COSTA\"],[\"ALBERTO BARROS CAVALCANTE NETO\"],[\"JOSE AUGUSTO ROSA\"],[\"CARLOS CAMILO G\\u00d3ES CAPIBERIBE\"],[\"GUILHERME MURARO DERRITE\"],[\"FABIO ABREU COSTA\"],[\"CARLOS GOMES BEZERRA\"],[\"WAGNER SOUSA GOMES\"],[\"CARLOS ALBERTO CHIODINI\"],[\"ANTONIO CARLOS GOMES DA SILVA\"],[\"CARLOS HENRIQUE AMORIM\"],[\"JOS\\u00c9 NUNES SOARES\"],[\"Carlos Roberto Coelho de Mattos J\\u00fanior\"],[\"JOS\\u00c9 BENITO PRIANTE J\\u00daNIOR\"],[\"CARLOS HENRIQUE FOCESI SAMPAIO\"],[\"JOS\\u00c9 NOBRE GUIMAR\\u00c3ES\"],[\"JOSE MARIO SCHREINER\"],[\"JOSE ANTONIO DOS SANTOS MEDEIROS\"],[\"JOS\\u00c9 NELTO LAGARES DAS MERCEZ\"],[\"JOS\\u00c9 RICARDO WENDLING\"],[\"JOSEILDO RIBEIRO RAMOS\"],[\"JOSIVALDO DOS SANTOS MELO\"],[\"GULLIEM CHARLES BEZERRA LEMOS\"],[\"JOS\\u00c9 ALVES ROCHA\"],[\"JOSIMAR CUNHA RODRIGUES\"],[\"JUAREZ ALVES DA COSTA\"],[\"JOSIAS GOMES DA SILVA\"],[\"J\\u00daLIO C\\u00c9SAR DE CARVALHO LIMA\"],[\"JULIO CESAR RIBEIRO\"],[\"ROGERIO TEIXEIRA JUNIOR\"],[\"GERALDO JUNIO DO AMARAL\"],[\"J\\u00daLIO C\\u00c9SAR DELGADO\"],[\"JO\\u00c3O FERRARI J\\u00daNIOR\"],[\"JOSE LOUREN\\u00c7O BOMFIM JUNIOR\"],[\"JOSE JUSCELINO DOS SANTOS REZENDE FILHO\"],[\"ANT\\u00d4NIO LUIZ RODRIGUES MANO J\\u00daNIOR\"],[\"KIM PATROCA KATAGUIRI\"],[\"LAERCIO JOS\\u00c9 DE OLIVEIRA\"],[\"ELIEL M\\u00c1RCIO DO CARMO\"],[\"LAFAYETTE LUIZ DOORGAL DE ANDRADA\"],[\"LEONARDO BARRETO DE MORAES\"],[\"LEONARDO CUNHA DE BRITO\"],[\"JOS\\u00c9 LEONARDO COSTA MONTEIRO\"],[\"JOS\\u00c9 LE\\u00d4NIDAS DE MENEZES CRISTINO\"],[\"LOESTER CARLOS GOMES DE SOUZA\"],[\"LOURIVAL GOMES DE ALMEIDA\"],[\"LEUR ANTONIO DE BRITTO LOMANTO JUNIOR\"],[\"LINCOLN DINIZ PORTELA\"],[\"LUCAS DE VASCONCELOS GONZALEZ\"],[\"LUCAS BELLO REDECKER\"],[\"LUIZ ANTONIO C. C. CORR\\u00caA DA SILVA\"],[\"LUCIANO DUCCI\"],[\"LUIS HENRIQUE DE OLIVEIRA RESENDE\"],[\"LUCAS DE CASTRO SANTOS\"],[\"LUCIANO CALDAS BIVAR\"],[\"LUIS CLAUDIO FERNANDES MIRANDA\"],[\"LUCIO ANTONIO MOSQUINI\"],[\"M\\u00c1RCIO COSTA MAC\\u00caDO\"],[\"MARCO AURELIO BERTAIOLLI\"],[\"M\\u00c1RCIO CARLOS MARINHO\"],[\"MARCOS AUR\\u00c9LIO  P\\u00c1DUA RIBEIRO GON\\u00c7ALVES DE SAMPAIO\"],[\"DIONILSO MATEUS MARCON\"],[\"MARLON ARATOR SANTOS DA ROSA\"],[\"MARIO S. M. NEGROMONTE JR.\"],[\"M\\u00c1RIO L\\u00daCIO HERINGER\"],[\"MARCOS ANTONIO PEREIRA\"],[\"MARX BELTR\\u00c3O LIMA SIQUEIRA\"],[\"MAUR\\u00cdCIO ALEXANDRE DZIEDRICKI\"],[\"ANTONIO DA CRUZ FILGUEIRA NETO\"],[\"MAURO RIBEIRO LOPES\"],[\"CARLOS MAURO BENEVIDES FILHO\"],[\"MAURO NAZIF RASUL\"],[\"MERLONG SOLANO NOGUEIRA\"],[\"MIGUEL LOMBARDI\"],[\"MILTON COELHO DA SILVA NETO\"],[\"NEY LEPREVOST NETO\"],[\"NEWTON CARDOSO JUNIOR\"],[\"MILTON VIEIRA PINTO\"],[\"MISAEL ARTUR FERREIRA VARELLA\"],[\"NELSON NED PREVIDENTE\"],[\"NEREU CRISPIM\"],[\"NEUCIMAR FERREIRA FRAGA\"],[\"NERI GELLER\"],[\"ANTONIO CARLOS NICOLETTI\"],[\"NILSON PINTO DE OLIVEIRA\"],[\"NILTO IGNACIO TATTO\"],[\"NIVALDO FERREIRA DE ALBUQUERQUE NETO\"],[\"ODAIR JOS\\u00c9 DA CUNHA\"],[\"OLIVAL HENRIQUE MARQUES DE SOUZA\"],[\"ONYX DORNELLES LORENZONI\"],[\"OTONI MOURA DE PAULO JUNIOR\"],[\"JOSE OTACI BARROSO DO NASCIMENTO\"],[\"OSSESIO JOSE DA SILVA\"],[\"OSIRES RODRIGUES DAMASO\"],[\"OSMAR GASPARINI TERRA\"],[\"ORLANDO SILVA DE JESUS JUNIOR\"],[\"OSMAR JOS\\u00c9 SERRAGLIO\"],[\"LUIZ CARLOS GOMES DOS SANTOS JUNIOR\"],[\"LUIZ EDUARDO CARNEIRO DA SILVA DE SOUZA LIMA\"],[\"OTTO ROBERTO MENDON\\u00c7A DE ALENCAR FILHO\"],[\"LUIZ HILOSHI NISHIMORI\"],[\"LUIZ CARLOS MOTTA\"],[\"LUIZ PHILIPPE DE ORLEANS BRAGAN\\u00c7A\"],[\"LUIZ GOULARTE ALVES\"],[\"VITOR HUGO DE ARAUJO ALMEIDA\"],[\"MARCEL VAN HATTEM\"],[\"MARCELO HENRIQUE TEIXEIRA DIAS\"],[\"MARCELO GUILHERME DE ARO FERREIRA\"],[\"MARCELO CALERO FARIA GARCIA\"],[\"MARCELO RIBEIRO FREIXO\"],[\"MARCELO PIRES MORAES\"],[\"M\\u00c1RCIO JERRY SARAIVA BARROSO\"],[\"M\\u00c1RCIO DA SILVEIRA LABRE\"],[\"JOS\\u00c9 MARCELO DO NASCIMENTO NILO\"],[\"MARCELO RAMOS RODRIGUES\"],[\"PEDRO AUGUSTO PALARETI\"],[\"PEDRO LUCAS ANDRADE FERNANDES RIBEIRO\"],[\"PEDRO DEBONI LUPION MELLO\"],[\"MARCIO LUIZ ALVINO DE SOUZA\"],[\"MARCIO DELLA VALLE BIOLCHI\"],[\"PEDRO OLIVEIRA CUNHA LIMA\"],[\"PEDRO BANDARRA WESTPHALEN\"],[\"ANT\\u00d4NIO PINHEIRO NETO\"],[\"PEDRO TORRES BRAND\\u00c3O VILELA\"],[\"PEDRO PAULO CARVALHO TEIXEIRA\"],[\"PEDRO FRANCISCO UCZAI\"],[\"ALCIDES RIBEIRO FILHO\"],[\"DARCI POMPEO DE MATTOS\"],[\"RAFAEL HUETE DA MOTTA\"],[\"ISRAEL MATOS BATISTA\"],[\"JOZIEL FERREIRA CARLOS\"],[\"RAIMUNDO MAGALH\\u00c3ES COSTA\"],[\"RAUL JEAN LOUIS HENRY J\\u00daNIOR\"],[\"REGINALDO L\\u00c1ZARO DE OLIVEIRA LOPES\"],[\"RICARDO CORREA DE BARROS\"],[\"RENILDO VASCONCELOS CALHEIROS\"],[\"RICARDO JOS\\u00c9 MAGALH\\u00c3ES BARROS\"],[\"GILDENEMIR DE LIMA SOUSA\"],[\"JO\\u00c3O CARLOS SIQUEIRA\"],[\"RICARDO ZANATTA GUIDI\"],[\"RICARDO IZAR JUNIOR\"],[\"MARCO ANT\\u00d4NIO FELICIANO\"],[\"MANOEL ISIDORIO DE SANTANA JUNIOR\"],[\"PATRUS ANANIAS DE SOUZA\"],[\"FRANCISCO EURICO DA SILVA\"],[\"PAULO FERNANDO DOS SANTOS\"],[\"PAULO PEREIRA DA SILVA\"],[\"PAULO ABI-ACKEL\"],[\"PAULO VELLOSO DANTAS AZI\"],[\"PAULO ROBERTO FOLETTO\"],[\"PAULO GUSTAVO GANIME ALVES TEIXEIRA\"],[\"PAULO ROBERTO FREIRE DA COSTA\"],[\"PAULO EDUARDO LIMA MARTINS\"],[\"PAULO EDUARDO MAESTRI BENGTSON\"],[\"PAULO ROBERTO SEVERO PIMENTA\"],[\"PAULO JOSE CARLOS GUEDES\"],[\"Paulo S\\u00e9rgio Ramos Barboza\"],[\"LUIZ PAULO TEIXEIRA FERREIRA\"],[\"PEDRO AUGUSTO GEROMEL BEZERRA DE MENEZES\"],[\"RICARDO AUGUSTO MACHADO DA SILVA\"],[\"RICARDO TEOBALDO CAVALCANTI\"],[\"MARCOS ROBERIO RIBEIRO MONTEIRO\"],[\"BENEDITO ROBERTO ALVES FERREIRA\"],[\"RODRIGO ANTONIO DE AGOSTINHO MENDON\\u00c7A\"],[\"ROBERTO ALVES DE LUCENA\"],[\"RODRIGO COELHO\"],[\"RODRIGO BATISTA DE CASTRO\"],[\"RODRIGO FELINTO IBARRA EPIT\\u00c1CIO MAIA\"],[\"ROG\\u00c9RIO CORREIA DE MOURA BAPTISTA\"],[\"RONALDO MANCHADO MARTINS\"],[\"VALDIR LUIZ ROSSONI\"],[\"RUBENS OTONI GOMIDE\"],[\"RUBENS PEREIRA E SILVA JUNIOR\"],[\"ROG\\u00c9RIO MENDON\\u00c7A\"],[\"RONALDO CARLETTO\"],[\"RUBENS BUENO\"],[\"JOS\\u00c9 WILSON SANTIAGO\"],[\"WOLNEY QUEIROZ MACIEL\"],[\"RUY MANUEL CARNEIRO BARBOSA DE ACA BELCHIOR\"],[\"RUI GOETHE DA COSTA FALC\\u00c3O\"],[\"SAMUEL MOREIRA DA SILVA JUNIOR\"],[\"UBIRATAN ANTUNES SANDERSON\"],[\"SANDRO ALEX CRUZ DE OLIVEIRA\"],[\"JOS\\u00c9 CERQUEIRA DE SANTANA NETO\"],[\"JOS\\u00c9 SILVA SOARES\"],[\"JOS\\u00c9 CARLOS NUNES J\\u00daNIOR\"],[\"JOSE VITOR DE RESENDE AGUIAR\"],[\"JOS\\u00c9 CARLOS BECKER DE OLIVEIRA E SILVA\"],[\"SIDNEY RICARDO DE OLIVEIRA LEITE\"],[\"GILSON CARDOSO FAHUR\"],[\"SEBASTIAO IGNACIO DE OLIVEIRA JUNIOR\"],[\"S\\u00c9RGIO LU\\u00cdS LACERDA BRITO\"],[\"SILAS C\\u00c2MARA\"],[\"SERGIO DE SOUZA\"],[\"SEVERINO DE LIRA PESS\\u00d4A\"],[\"SERGIO TOLEDO DE ALBUQUERQUE\"],[\"SILVIO SERAFIM COSTA FILHO\"],[\"FRANCISCO TADEU BARBOSA DE ALENCAR\"],[\"SOSTENES SILVA CAVALCANTE\"],[\"LUIZ GONZAGA RIBEIRO\"],[\"STEFANO AGUIAR DOS SANTOS\"],[\"CARLOS TITO MARQUES CORDEIRO\"],[\"Tiago Dimas Braga Pereira\"],[\"FRANCISCO EVERARDO TIRIRICA OLIVEIRA SILVA\"],[\"TIAGO LIMA MITRAUD DE CASTRO LEITE\"],[\"ANTONIO WANDSCHEER\"],[\"T\\u00daLIO GAD\\u00caLHA SALES DE MELO\"],[\"ULDURICO ALENCAR PINTO\"],[\"FRANCISCO VAIDON OLIVEIRA\"],[\"VALMIR CARLOS DA ASSUN\\u00c7\\u00c3O\"],[\"VANDER LUIZ DOS SANTOS LOUBET\"],[\"VANDERLEI MACRIS\"],[\"WAGNER BACH MARTINS\"],[\"NELSI COGUETTO MARIA\"],[\"VINICIUS LAZZER POIT\"],[\"VICENTE PAULO DA SILVA\"],[\"VITOR LIPPI\"],[\"WALTER PEREIRA ALVES\"],[\"VICENTE ALVES DE OLIVEIRA JUNIOR\"],[\"VINICIUS MEDEIROS FARAH\"],[\"VILSON LUIZ DA SILVA\"],[\"VINICIUS RAPOZO DE CARVALHO\"],[\"WALDENOR ALVES PEREIRA FILHO\"],[\"JOS\\u00c9 WELLINGTON ROBERTO\"],[\"WELITON FERNANDES PRADO\"]],\"hovertemplate\":\"genero=H<br>index=%{x}<br>presenca_plenario=%{marker.size}<br>nome=%{customdata[0]}<extra></extra>\",\"legendgroup\":\"H\",\"marker\":{\"color\":\"#636efa\",\"size\":[81.0,83.0,86.0,82.0,86.0,82.0,91.0,87.0,87.0,83.0,88.0,58.0,85.0,89.0,81.0,86.0,76.0,51.0,65.0,88.0,86.0,85.0,90.0,91.0,91.0,89.0,77.0,66.0,63.0,86.0,83.0,86.0,80.0,50.0,90.0,78.0,79.0,80.0,86.0,88.0,70.0,89.0,86.0,67.0,79.0,69.0,87.0,83.0,91.0,86.0,82.0,87.0,71.0,92.0,81.0,76.0,83.0,82.0,82.0,68.0,84.0,88.0,73.0,80.0,70.0,89.0,87.0,82.0,88.0,77.0,80.0,87.0,90.0,88.0,54.0,77.0,85.0,90.0,84.0,70.0,77.0,86.0,86.0,86.0,89.0,86.0,88.0,88.0,80.0,82.0,77.0,85.0,90.0,88.0,89.0,81.0,83.0,84.0,91.0,87.0,84.0,89.0,81.0,88.0,89.0,80.0,89.0,91.0,80.0,73.0,81.0,80.0,88.0,92.0,55.0,91.0,76.0,86.0,79.0,37.0,78.0,88.0,86.0,80.0,87.0,85.0,55.0,87.0,76.0,87.0,88.0,77.0,83.0,78.0,88.0,82.0,77.0,82.0,90.0,80.0,71.0,71.0,90.0,83.0,88.0,88.0,85.0,89.0,90.0,90.0,29.0,31.0,85.0,92.0,79.0,37.0,84.0,74.0,87.0,87.0,90.0,91.0,76.0,87.0,84.0,88.0,82.0,82.0,41.0,76.0,53.0,86.0,87.0,90.0,91.0,91.0,90.0,54.0,85.0,67.0,84.0,72.0,79.0,87.0,81.0,86.0,90.0,85.0,66.0,86.0,82.0,86.0,88.0,85.0,92.0,83.0,65.0,67.0,51.0,91.0,65.0,52.0,88.0,74.0,86.0,82.0,63.0,71.0,78.0,79.0,83.0,90.0,76.0,84.0,88.0,91.0,83.0,92.0,73.0,58.0,85.0,76.0,72.0,79.0,76.0,87.0,60.0,75.0,77.0,87.0,67.0,83.0,81.0,54.0,84.0,74.0,91.0,53.0,78.0,86.0,90.0,0.0,92.0,85.0,70.0,84.0,83.0,83.0,87.0,92.0,82.0,84.0,65.0,87.0,87.0,63.0,88.0,80.0,82.0,58.0,81.0,80.0,92.0,82.0,39.0,91.0,91.0,85.0,63.0,82.0,85.0,89.0,80.0,89.0,88.0,77.0,86.0,77.0,82.0,74.0,85.0,74.0,89.0,92.0,82.0,85.0,89.0,78.0,86.0,73.0,46.0,77.0,84.0,60.0,91.0,74.0,91.0,74.0,84.0,79.0,75.0,84.0,69.0,89.0,67.0,81.0,71.0,87.0,90.0,92.0,85.0,6.0,88.0,11.0,42.0,75.0,92.0,84.0,88.0,91.0,83.0,82.0,79.0,87.0,88.0,89.0,65.0,83.0,81.0,77.0,73.0,75.0,84.0,92.0,61.0,69.0,68.0,84.0,79.0,47.0,80.0,82.0,90.0,86.0,75.0,92.0,89.0,69.0,92.0,81.0,84.0,77.0,54.0,83.0,87.0,83.0,82.0,85.0,86.0,83.0,89.0,77.0,69.0,47.0,88.0,79.0,84.0,64.0,90.0],\"sizemode\":\"area\",\"sizeref\":0.23,\"symbol\":\"circle\"},\"mode\":\"markers\",\"name\":\"H\",\"orientation\":\"v\",\"showlegend\":true,\"x\":[0,1,2,3,4,5,6,7,8,9,10,11,12,13,14,15,16,17,18,19,20,21,22,23,24,25,26,27,28,29,30,31,32,33,34,35,36,37,38,39,40,41,42,43,44,45,46,47,48,49,50,51,52,53,54,55,56,57,58,59,60,61,62,63,64,65,66,67,68,69,70,71,72,73,74,75,76,77,78,79,80,81,82,83,84,85,86,87,88,89,90,91,92,93,94,95,96,97,98,99,100,101,102,103,104,105,106,107,108,109,110,111,112,113,114,115,116,117,118,119,120,121,122,123,124,125,126,127,128,129,130,131,132,133,134,135,136,137,138,139,140,141,142,143,144,145,146,147,148,149,150,151,152,153,154,155,156,157,158,159,160,161,162,163,164,165,166,167,168,169,170,171,172,173,174,175,176,177,178,179,180,181,182,183,184,185,186,187,188,189,190,191,192,193,194,195,196,197,198,199,200,201,202,203,204,205,206,207,208,209,210,211,212,213,214,215,216,217,218,219,220,221,222,223,224,225,226,227,228,229,230,231,232,233,234,235,236,237,238,239,240,241,242,243,244,245,246,247,248,249,250,251,252,253,254,255,256,257,258,259,260,261,262,263,264,265,266,267,268,269,270,271,272,273,274,275,276,277,278,279,280,281,282,283,284,285,286,287,288,289,290,291,292,293,294,295,296,297,298,299,300,301,302,303,304,305,306,307,308,309,310,311,312,313,314,315,316,317,318,319,320,321,322,323,324,325,326,327,328,329,330,331,332,333,334,335,336,337,338,339,340,341,342,343,344,345,346,347,348,349,350,351,352,353,354,355,356,357,358,359,360,361,362,363,364,365,366,367,368],\"xaxis\":\"x\",\"y\":[81.0,83.0,86.0,82.0,86.0,82.0,91.0,87.0,87.0,83.0,88.0,58.0,85.0,89.0,81.0,86.0,76.0,51.0,65.0,88.0,86.0,85.0,90.0,91.0,91.0,89.0,77.0,66.0,63.0,86.0,83.0,86.0,80.0,50.0,90.0,78.0,79.0,80.0,86.0,88.0,70.0,89.0,86.0,67.0,79.0,69.0,87.0,83.0,91.0,86.0,82.0,87.0,71.0,92.0,81.0,76.0,83.0,82.0,82.0,68.0,84.0,88.0,73.0,80.0,70.0,89.0,87.0,82.0,88.0,77.0,80.0,87.0,90.0,88.0,54.0,77.0,85.0,90.0,84.0,70.0,77.0,86.0,86.0,86.0,89.0,86.0,88.0,88.0,80.0,82.0,77.0,85.0,90.0,88.0,89.0,81.0,83.0,84.0,91.0,87.0,84.0,89.0,81.0,88.0,89.0,80.0,89.0,91.0,80.0,73.0,81.0,80.0,88.0,92.0,55.0,91.0,76.0,86.0,79.0,37.0,78.0,88.0,86.0,80.0,87.0,85.0,55.0,87.0,76.0,87.0,88.0,77.0,83.0,78.0,88.0,82.0,77.0,82.0,90.0,80.0,71.0,71.0,90.0,83.0,88.0,88.0,85.0,89.0,90.0,90.0,29.0,31.0,85.0,92.0,79.0,37.0,84.0,74.0,87.0,87.0,90.0,91.0,76.0,87.0,84.0,88.0,82.0,82.0,41.0,76.0,53.0,86.0,87.0,90.0,91.0,91.0,90.0,54.0,85.0,67.0,84.0,72.0,79.0,87.0,81.0,86.0,90.0,85.0,66.0,86.0,82.0,86.0,88.0,85.0,92.0,83.0,65.0,67.0,51.0,91.0,65.0,52.0,88.0,74.0,86.0,82.0,63.0,71.0,78.0,79.0,83.0,90.0,76.0,84.0,88.0,91.0,83.0,92.0,73.0,58.0,85.0,76.0,72.0,79.0,76.0,87.0,60.0,75.0,77.0,87.0,67.0,83.0,81.0,54.0,84.0,74.0,91.0,53.0,78.0,86.0,90.0,0.0,92.0,85.0,70.0,84.0,83.0,83.0,87.0,92.0,82.0,84.0,65.0,87.0,87.0,63.0,88.0,80.0,82.0,58.0,81.0,80.0,92.0,82.0,39.0,91.0,91.0,85.0,63.0,82.0,85.0,89.0,80.0,89.0,88.0,77.0,86.0,77.0,82.0,74.0,85.0,74.0,89.0,92.0,82.0,85.0,89.0,78.0,86.0,73.0,46.0,77.0,84.0,60.0,91.0,74.0,91.0,74.0,84.0,79.0,75.0,84.0,69.0,89.0,67.0,81.0,71.0,87.0,90.0,92.0,85.0,6.0,88.0,11.0,42.0,75.0,92.0,84.0,88.0,91.0,83.0,82.0,79.0,87.0,88.0,89.0,65.0,83.0,81.0,77.0,73.0,75.0,84.0,92.0,61.0,69.0,68.0,84.0,79.0,47.0,80.0,82.0,90.0,86.0,75.0,92.0,89.0,69.0,92.0,81.0,84.0,77.0,54.0,83.0,87.0,83.0,82.0,85.0,86.0,83.0,89.0,77.0,69.0,47.0,88.0,79.0,84.0,64.0,90.0],\"yaxis\":\"y\",\"type\":\"scatter\"},{\"customdata\":[[\"ADRIANA MIGUEL VENTURA\"],[\"ANGELA REGINA HEINZEN AMIN HELOU\"],[\"ALINE SLEUTJES\"],[\"ANT\\u00d4NIA LUCIL\\u00c9IA CRUZ RAMOS C\\u00c2MARA\"],[\"ALESSANDRA SILVA RIBEIRO\"],[\"ALICE MAZZUCO PORTUGAL\"],[\"ALINE PARANHOS VARONIL GURGEL\"],[\"BRUNA DIAS FURLAN VICENTE\"],[\"\\u00c1UREA CAROLINA DE FREITAS E SILVA\"],[\"BEATRIZ KICIS TORRENTS DE SORDI\"],[\"BENEDITA SOUZA DA SILVA SAMPAIO\"],[\"HILKEA CARLA DE SOUZA MEDEIROS LIMA\"],[\"CARLA ZAMBELLI SALGADO DE OLIVEIRA\"],[\"CARMEN EM\\u00cdLIA BONF\\u00c1 ZANOTTO\"],[\"CHRISTINE NOGUEIRA DOS REIS TONIETTO\"],[\"CELINA LEAO HIZIM FERREIRA\"],[\"CAROLINE RODRIGUES DE TONI\"],[\"VANDA DENIR MILANI NOGUEIRA\"],[\"CLARISSA BARROS ASSED MATHEUS DE OLIVEIRA\"],[\"DANIELA MOTE DE SOUZA CARNEIRO\"],[\"CHRISTIANE DE SOUZA YARED\"],[\"SORAYA DE SOUZA MANNATO\"],[\"ROSANA DE OLIVEIRA VALLE\"],[\"DULCE FERREIRA PAGANI MIRANDA\"],[\"EDNACE ALVES SILVESTRE HENRIQUE\"],[\"ROSANGELA DE SOUZA GOMES\"],[\"RENATA HELLMEISTER DE ABREU\"],[\"ROSIANE MODESTO  DE OLIVEIRA\"],[\"SAMIA DE SOUZA BOMFIM\"],[\"SH\\u00c9RIDAN EST\\u00c9RFANY OLIVEIRA RAMOS\"],[\"SILVIA CRISTINA AMANCIO CHAGAS\"],[\"TEREZA CRISTINA CORREA DA COSTA DIAS\"],[\"LUIZA ERUNDINA DE SOUSA\"],[\"SORAYA ALENCAR DOS SANTOS\"],[\"TABATA CLAUDIA AMARAL DE PONTES\"],[\"VIVIANE DA COSTA REIS\"],[\"TALIRIA PETRONE SOARES\"],[\"LUIZIANNE DE OLIVEIRA LINS\"],[\"TEREZA NELMA DA SILVA PORTO VIANA SOARES\"],[\"MAGDA MOFATTO HON\"],[\"FABIANA SILVA DE SOUZA\"],[\"MARGARETE DE CASTRO COELHO\"],[\"MARIA DO ROS\\u00c1RIO NUNES\"],[\"CYLMARA FERNANDES DA ROCHA GRIPP\"],[\"MARIA DO PARTO MENDES ROSAS\"],[\"MARIANA FONSECA RIBEIRO CARVALHO DE MORAES\"],[\"MAR\\u00cdLIA VALEN\\u00c7A ROCHA ARRAES DE ALENCAR\"],[\"MARINA SANTOS BATISTA DIAS\"],[\"PATRICIA LIMA FERRAZ\"],[\"PAULA MORENO PARO BELMONTE\"],[\"NORMA AYUB ALVES\"],[\"MARIA PERP\\u00c9TUA DE ALMEIDA\"],[\"KATIA DA SILVA SASTRE\"],[\"NAT\\u00c1LIA BASTOS BONAVIDES\"],[\"DAYANE JAMILLE CARNEIRO DOS SANTOS PIMENTEL\"],[\"MARIA AUXILIADORA SEABRA REZENDE\"],[\"REJANE RIBEIRO SOUSA DIAS\"],[\"ROSA NEIDE SANDES DE ALMEIDA\"],[\"MARCIVANIA DO SOCORRO DA ROCHA FLEXA\"],[\"ELCIONE THEREZINHA ZAHLUTH BARBALHO\"],[\"ELIZA VIRGINIA DE SOUZA FERNANDES\"],[\"\\u00c9RIKA JUC\\u00c1 KOKAY\"],[\"FL\\u00c1VIA CAROLINA P\\u00c9RES\"],[\"FERNANDA MELCHIONNA E SILVA\"],[\"Geov\\u00e2nia de S\\u00e1\"],[\"FL\\u00c1VIA CARREIRO ALBUQUERQUE MORAIS\"],[\"GLEISI HELENA HOFFMANN\"],[\"GREYCE DE QUEIROZ ELIAS\"],[\"IRACEMA MARIA PORTELLA NUNES NOGUEIRA LIMA\"],[\"JANDIRA FEGHALI\"],[\"DIRLAINE JAQUELINE CASSOL\"],[\"JOICE CRISTINA HASSELMANN\"],[\"JOENIA BATISTA DE CARVALHO\"],[\"JESSICA ROJAS SALES\"],[\"LAURIETE RODRIGUES DE JESUS\"],[\"LEDA MARIA SADALA BRITO\"],[\"LEANDRE DAL PONTE\"],[\"L\\u00cdDICE DA MATA E SOUZA\"],[\"LIZIANE BAYER DA COSTA\"],[\"LUISA CANZIANI DOS SANTOS SILVEIRA\"]],\"hovertemplate\":\"genero=M<br>index=%{x}<br>presenca_plenario=%{marker.size}<br>nome=%{customdata[0]}<extra></extra>\",\"legendgroup\":\"M\",\"marker\":{\"color\":\"#EF553B\",\"size\":[92.0,88.0,81.0,12.0,82.0,91.0,78.0,39.0,75.0,89.0,45.0,91.0,79.0,92.0,88.0,71.0,91.0,72.0,86.0,80.0,83.0,92.0,87.0,84.0,52.0,77.0,48.0,77.0,78.0,53.0,89.0,63.0,78.0,90.0,88.0,81.0,76.0,82.0,79.0,77.0,76.0,81.0,77.0,77.0,62.0,53.0,64.0,90.0,10.0,87.0,77.0,86.0,91.0,86.0,67.0,71.0,90.0,88.0,91.0,74.0,16.0,90.0,60.0,88.0,91.0,86.0,66.0,77.0,35.0,91.0,81.0,87.0,83.0,42.0,89.0,72.0,80.0,89.0,92.0,82.0],\"sizemode\":\"area\",\"sizeref\":0.23,\"symbol\":\"diamond\"},\"mode\":\"markers\",\"name\":\"M\",\"orientation\":\"v\",\"showlegend\":true,\"x\":[369,370,371,372,373,374,375,376,377,378,379,380,381,382,383,384,385,386,387,388,389,390,391,392,393,394,395,396,397,398,399,400,401,402,403,404,405,406,407,408,409,410,411,412,413,414,415,416,417,418,419,420,421,422,423,424,425,426,427,428,429,430,431,432,433,434,435,436,437,438,439,440,441,442,443,444,445,446,447,448],\"xaxis\":\"x\",\"y\":[92.0,88.0,81.0,12.0,82.0,91.0,78.0,39.0,75.0,89.0,45.0,91.0,79.0,92.0,88.0,71.0,91.0,72.0,86.0,80.0,83.0,92.0,87.0,84.0,52.0,77.0,48.0,77.0,78.0,53.0,89.0,63.0,78.0,90.0,88.0,81.0,76.0,82.0,79.0,77.0,76.0,81.0,77.0,77.0,62.0,53.0,64.0,90.0,10.0,87.0,77.0,86.0,91.0,86.0,67.0,71.0,90.0,88.0,91.0,74.0,16.0,90.0,60.0,88.0,91.0,86.0,66.0,77.0,35.0,91.0,81.0,87.0,83.0,42.0,89.0,72.0,80.0,89.0,92.0,82.0],\"yaxis\":\"y\",\"type\":\"scatter\"}],                        {\"template\":{\"data\":{\"bar\":[{\"error_x\":{\"color\":\"#2a3f5f\"},\"error_y\":{\"color\":\"#2a3f5f\"},\"marker\":{\"line\":{\"color\":\"#E5ECF6\",\"width\":0.5},\"pattern\":{\"fillmode\":\"overlay\",\"size\":10,\"solidity\":0.2}},\"type\":\"bar\"}],\"barpolar\":[{\"marker\":{\"line\":{\"color\":\"#E5ECF6\",\"width\":0.5},\"pattern\":{\"fillmode\":\"overlay\",\"size\":10,\"solidity\":0.2}},\"type\":\"barpolar\"}],\"carpet\":[{\"aaxis\":{\"endlinecolor\":\"#2a3f5f\",\"gridcolor\":\"white\",\"linecolor\":\"white\",\"minorgridcolor\":\"white\",\"startlinecolor\":\"#2a3f5f\"},\"baxis\":{\"endlinecolor\":\"#2a3f5f\",\"gridcolor\":\"white\",\"linecolor\":\"white\",\"minorgridcolor\":\"white\",\"startlinecolor\":\"#2a3f5f\"},\"type\":\"carpet\"}],\"choropleth\":[{\"colorbar\":{\"outlinewidth\":0,\"ticks\":\"\"},\"type\":\"choropleth\"}],\"contour\":[{\"colorbar\":{\"outlinewidth\":0,\"ticks\":\"\"},\"colorscale\":[[0.0,\"#0d0887\"],[0.1111111111111111,\"#46039f\"],[0.2222222222222222,\"#7201a8\"],[0.3333333333333333,\"#9c179e\"],[0.4444444444444444,\"#bd3786\"],[0.5555555555555556,\"#d8576b\"],[0.6666666666666666,\"#ed7953\"],[0.7777777777777778,\"#fb9f3a\"],[0.8888888888888888,\"#fdca26\"],[1.0,\"#f0f921\"]],\"type\":\"contour\"}],\"contourcarpet\":[{\"colorbar\":{\"outlinewidth\":0,\"ticks\":\"\"},\"type\":\"contourcarpet\"}],\"heatmap\":[{\"colorbar\":{\"outlinewidth\":0,\"ticks\":\"\"},\"colorscale\":[[0.0,\"#0d0887\"],[0.1111111111111111,\"#46039f\"],[0.2222222222222222,\"#7201a8\"],[0.3333333333333333,\"#9c179e\"],[0.4444444444444444,\"#bd3786\"],[0.5555555555555556,\"#d8576b\"],[0.6666666666666666,\"#ed7953\"],[0.7777777777777778,\"#fb9f3a\"],[0.8888888888888888,\"#fdca26\"],[1.0,\"#f0f921\"]],\"type\":\"heatmap\"}],\"heatmapgl\":[{\"colorbar\":{\"outlinewidth\":0,\"ticks\":\"\"},\"colorscale\":[[0.0,\"#0d0887\"],[0.1111111111111111,\"#46039f\"],[0.2222222222222222,\"#7201a8\"],[0.3333333333333333,\"#9c179e\"],[0.4444444444444444,\"#bd3786\"],[0.5555555555555556,\"#d8576b\"],[0.6666666666666666,\"#ed7953\"],[0.7777777777777778,\"#fb9f3a\"],[0.8888888888888888,\"#fdca26\"],[1.0,\"#f0f921\"]],\"type\":\"heatmapgl\"}],\"histogram\":[{\"marker\":{\"pattern\":{\"fillmode\":\"overlay\",\"size\":10,\"solidity\":0.2}},\"type\":\"histogram\"}],\"histogram2d\":[{\"colorbar\":{\"outlinewidth\":0,\"ticks\":\"\"},\"colorscale\":[[0.0,\"#0d0887\"],[0.1111111111111111,\"#46039f\"],[0.2222222222222222,\"#7201a8\"],[0.3333333333333333,\"#9c179e\"],[0.4444444444444444,\"#bd3786\"],[0.5555555555555556,\"#d8576b\"],[0.6666666666666666,\"#ed7953\"],[0.7777777777777778,\"#fb9f3a\"],[0.8888888888888888,\"#fdca26\"],[1.0,\"#f0f921\"]],\"type\":\"histogram2d\"}],\"histogram2dcontour\":[{\"colorbar\":{\"outlinewidth\":0,\"ticks\":\"\"},\"colorscale\":[[0.0,\"#0d0887\"],[0.1111111111111111,\"#46039f\"],[0.2222222222222222,\"#7201a8\"],[0.3333333333333333,\"#9c179e\"],[0.4444444444444444,\"#bd3786\"],[0.5555555555555556,\"#d8576b\"],[0.6666666666666666,\"#ed7953\"],[0.7777777777777778,\"#fb9f3a\"],[0.8888888888888888,\"#fdca26\"],[1.0,\"#f0f921\"]],\"type\":\"histogram2dcontour\"}],\"mesh3d\":[{\"colorbar\":{\"outlinewidth\":0,\"ticks\":\"\"},\"type\":\"mesh3d\"}],\"parcoords\":[{\"line\":{\"colorbar\":{\"outlinewidth\":0,\"ticks\":\"\"}},\"type\":\"parcoords\"}],\"pie\":[{\"automargin\":true,\"type\":\"pie\"}],\"scatter\":[{\"marker\":{\"colorbar\":{\"outlinewidth\":0,\"ticks\":\"\"}},\"type\":\"scatter\"}],\"scatter3d\":[{\"line\":{\"colorbar\":{\"outlinewidth\":0,\"ticks\":\"\"}},\"marker\":{\"colorbar\":{\"outlinewidth\":0,\"ticks\":\"\"}},\"type\":\"scatter3d\"}],\"scattercarpet\":[{\"marker\":{\"colorbar\":{\"outlinewidth\":0,\"ticks\":\"\"}},\"type\":\"scattercarpet\"}],\"scattergeo\":[{\"marker\":{\"colorbar\":{\"outlinewidth\":0,\"ticks\":\"\"}},\"type\":\"scattergeo\"}],\"scattergl\":[{\"marker\":{\"colorbar\":{\"outlinewidth\":0,\"ticks\":\"\"}},\"type\":\"scattergl\"}],\"scattermapbox\":[{\"marker\":{\"colorbar\":{\"outlinewidth\":0,\"ticks\":\"\"}},\"type\":\"scattermapbox\"}],\"scatterpolar\":[{\"marker\":{\"colorbar\":{\"outlinewidth\":0,\"ticks\":\"\"}},\"type\":\"scatterpolar\"}],\"scatterpolargl\":[{\"marker\":{\"colorbar\":{\"outlinewidth\":0,\"ticks\":\"\"}},\"type\":\"scatterpolargl\"}],\"scatterternary\":[{\"marker\":{\"colorbar\":{\"outlinewidth\":0,\"ticks\":\"\"}},\"type\":\"scatterternary\"}],\"surface\":[{\"colorbar\":{\"outlinewidth\":0,\"ticks\":\"\"},\"colorscale\":[[0.0,\"#0d0887\"],[0.1111111111111111,\"#46039f\"],[0.2222222222222222,\"#7201a8\"],[0.3333333333333333,\"#9c179e\"],[0.4444444444444444,\"#bd3786\"],[0.5555555555555556,\"#d8576b\"],[0.6666666666666666,\"#ed7953\"],[0.7777777777777778,\"#fb9f3a\"],[0.8888888888888888,\"#fdca26\"],[1.0,\"#f0f921\"]],\"type\":\"surface\"}],\"table\":[{\"cells\":{\"fill\":{\"color\":\"#EBF0F8\"},\"line\":{\"color\":\"white\"}},\"header\":{\"fill\":{\"color\":\"#C8D4E3\"},\"line\":{\"color\":\"white\"}},\"type\":\"table\"}]},\"layout\":{\"annotationdefaults\":{\"arrowcolor\":\"#2a3f5f\",\"arrowhead\":0,\"arrowwidth\":1},\"autotypenumbers\":\"strict\",\"coloraxis\":{\"colorbar\":{\"outlinewidth\":0,\"ticks\":\"\"}},\"colorscale\":{\"diverging\":[[0,\"#8e0152\"],[0.1,\"#c51b7d\"],[0.2,\"#de77ae\"],[0.3,\"#f1b6da\"],[0.4,\"#fde0ef\"],[0.5,\"#f7f7f7\"],[0.6,\"#e6f5d0\"],[0.7,\"#b8e186\"],[0.8,\"#7fbc41\"],[0.9,\"#4d9221\"],[1,\"#276419\"]],\"sequential\":[[0.0,\"#0d0887\"],[0.1111111111111111,\"#46039f\"],[0.2222222222222222,\"#7201a8\"],[0.3333333333333333,\"#9c179e\"],[0.4444444444444444,\"#bd3786\"],[0.5555555555555556,\"#d8576b\"],[0.6666666666666666,\"#ed7953\"],[0.7777777777777778,\"#fb9f3a\"],[0.8888888888888888,\"#fdca26\"],[1.0,\"#f0f921\"]],\"sequentialminus\":[[0.0,\"#0d0887\"],[0.1111111111111111,\"#46039f\"],[0.2222222222222222,\"#7201a8\"],[0.3333333333333333,\"#9c179e\"],[0.4444444444444444,\"#bd3786\"],[0.5555555555555556,\"#d8576b\"],[0.6666666666666666,\"#ed7953\"],[0.7777777777777778,\"#fb9f3a\"],[0.8888888888888888,\"#fdca26\"],[1.0,\"#f0f921\"]]},\"colorway\":[\"#636efa\",\"#EF553B\",\"#00cc96\",\"#ab63fa\",\"#FFA15A\",\"#19d3f3\",\"#FF6692\",\"#B6E880\",\"#FF97FF\",\"#FECB52\"],\"font\":{\"color\":\"#2a3f5f\"},\"geo\":{\"bgcolor\":\"white\",\"lakecolor\":\"white\",\"landcolor\":\"#E5ECF6\",\"showlakes\":true,\"showland\":true,\"subunitcolor\":\"white\"},\"hoverlabel\":{\"align\":\"left\"},\"hovermode\":\"closest\",\"mapbox\":{\"style\":\"light\"},\"paper_bgcolor\":\"white\",\"plot_bgcolor\":\"#E5ECF6\",\"polar\":{\"angularaxis\":{\"gridcolor\":\"white\",\"linecolor\":\"white\",\"ticks\":\"\"},\"bgcolor\":\"#E5ECF6\",\"radialaxis\":{\"gridcolor\":\"white\",\"linecolor\":\"white\",\"ticks\":\"\"}},\"scene\":{\"xaxis\":{\"backgroundcolor\":\"#E5ECF6\",\"gridcolor\":\"white\",\"gridwidth\":2,\"linecolor\":\"white\",\"showbackground\":true,\"ticks\":\"\",\"zerolinecolor\":\"white\"},\"yaxis\":{\"backgroundcolor\":\"#E5ECF6\",\"gridcolor\":\"white\",\"gridwidth\":2,\"linecolor\":\"white\",\"showbackground\":true,\"ticks\":\"\",\"zerolinecolor\":\"white\"},\"zaxis\":{\"backgroundcolor\":\"#E5ECF6\",\"gridcolor\":\"white\",\"gridwidth\":2,\"linecolor\":\"white\",\"showbackground\":true,\"ticks\":\"\",\"zerolinecolor\":\"white\"}},\"shapedefaults\":{\"line\":{\"color\":\"#2a3f5f\"}},\"ternary\":{\"aaxis\":{\"gridcolor\":\"white\",\"linecolor\":\"white\",\"ticks\":\"\"},\"baxis\":{\"gridcolor\":\"white\",\"linecolor\":\"white\",\"ticks\":\"\"},\"bgcolor\":\"#E5ECF6\",\"caxis\":{\"gridcolor\":\"white\",\"linecolor\":\"white\",\"ticks\":\"\"}},\"title\":{\"x\":0.05},\"xaxis\":{\"automargin\":true,\"gridcolor\":\"white\",\"linecolor\":\"white\",\"ticks\":\"\",\"title\":{\"standoff\":15},\"zerolinecolor\":\"white\",\"zerolinewidth\":2},\"yaxis\":{\"automargin\":true,\"gridcolor\":\"white\",\"linecolor\":\"white\",\"ticks\":\"\",\"title\":{\"standoff\":15},\"zerolinecolor\":\"white\",\"zerolinewidth\":2}}},\"xaxis\":{\"anchor\":\"y\",\"domain\":[0.0,1.0],\"title\":{\"text\":\"\\u00cdndice\"}},\"yaxis\":{\"anchor\":\"x\",\"domain\":[0.0,1.0],\"title\":{\"text\":\"Total de presen\\u00e7as no plen\\u00e1rio\"}},\"legend\":{\"title\":{\"text\":\"genero\"},\"tracegroupgap\":0,\"itemsizing\":\"constant\"},\"margin\":{\"t\":60},\"title\":{\"text\":\"<b>Presen\\u00e7a no plen\\u00e1rio para cada g\\u00eanero</b>\",\"x\":0.5,\"xanchor\":\"center\"}},                        {\"responsive\": true}                    ).then(function(){\n",
              "                            \n",
              "var gd = document.getElementById('a7372e4b-2548-48bc-b054-9bf8cfce7194');\n",
              "var x = new MutationObserver(function (mutations, observer) {{\n",
              "        var display = window.getComputedStyle(gd).display;\n",
              "        if (!display || display === 'none') {{\n",
              "            console.log([gd, 'removed!']);\n",
              "            Plotly.purge(gd);\n",
              "            observer.disconnect();\n",
              "        }}\n",
              "}});\n",
              "\n",
              "// Listen for the removal of the full notebook cells\n",
              "var notebookContainer = gd.closest('#notebook-container');\n",
              "if (notebookContainer) {{\n",
              "    x.observe(notebookContainer, {childList: true});\n",
              "}}\n",
              "\n",
              "// Listen for the clearing of the current output cell\n",
              "var outputEl = gd.closest('.output');\n",
              "if (outputEl) {{\n",
              "    x.observe(outputEl, {childList: true});\n",
              "}}\n",
              "\n",
              "                        })                };                            </script>        </div>\n",
              "</body>\n",
              "</html>"
            ]
          },
          "metadata": {}
        }
      ]
    },
    {
      "cell_type": "markdown",
      "source": [
        "**Questão 2**: Como se comporta o total de gastos parlamentar e de gabinete em cada mês do ano de 2022: (dica: use um gráfico de barra (stacked ou não))"
      ],
      "metadata": {
        "id": "M_Prd5bbRHJ-"
      }
    },
    {
      "cell_type": "code",
      "source": [
        "# criando dados\n",
        "labels = ['Janeiro', 'Fevereiro', 'Março', 'Abril', 'Maio', 'Junho', 'Julho', 'Agosto', 'Setembro', 'Outubro', 'Novembro']\n",
        "gastos_parlamentar = [df['gasto_jan_par'].sum(), df['gasto_fev_par'].sum(), df['gasto_mar_par'].sum(), df['gasto_abr_par'].sum(), df['gasto_maio_par'].sum(), df['gasto_junho_par'].sum(), df['gasto_jul_par'].sum(), df['gasto_agosto_par'].sum(), df['gasto_set_par'].sum(), df['gasto_out_par'].sum(), df['gasto_nov_par'].sum()]\n",
        "gastos_gabinete = [df['gasto_jan_gab'].sum(), df['gasto_fev_gab'].sum(), df['gasto_mar_gab'].sum(), df['gasto_abr_gab'].sum(), df['gasto_maio_gab'].sum(), df['gasto_junho_gab'].sum(), df['gasto_jul_gab'].sum(), df['gasto_agosto_gab'].sum(), df['gasto_set_gab'].sum(), df['gasto_out_gab'].sum(), df['gasto_nov_gab'].sum()]\n",
        "\n",
        "# configurações\n",
        "gastos_parlamentar = go.Bar(x = labels,\n",
        "               y = gastos_parlamentar,\n",
        "               name = 'Gastos Parlamentar',\n",
        "               marker = {'color': '#7ecfc9'})\n",
        "\n",
        "gastos_gabinete = go.Bar(x = labels,\n",
        "                y = gastos_gabinete,\n",
        "                name = 'Gastos Gabinete',\n",
        "                marker = {'color': '#04f7e3'})\n",
        "\n",
        "\n",
        "data = [gastos_parlamentar, gastos_gabinete ]\n",
        "\n",
        "# configurando layout\n",
        "\n",
        "layout = go.Layout(title = 'Gráfico de Gastos dos Parlamentares no ano de 2022',\n",
        "                   xaxis = {'title': 'Meses'},\n",
        "                   yaxis = {'title': 'Total de gastos'},\n",
        "                   barmode = 'stack') # stack = pilha ou seja, barra empilhada\n",
        "# plotando \n",
        "\n",
        "fig = go.Figure(data=data, layout=layout)\n",
        "py.iplot(fig)"
      ],
      "metadata": {
        "id": "PuYhDuBsQ6Yt",
        "colab": {
          "base_uri": "https://localhost:8080/",
          "height": 542
        },
        "outputId": "bb8d62d7-c9c5-4af4-fc51-e1fd3c335bb0"
      },
      "execution_count": 44,
      "outputs": [
        {
          "output_type": "display_data",
          "data": {
            "text/html": [
              "<html>\n",
              "<head><meta charset=\"utf-8\" /></head>\n",
              "<body>\n",
              "    <div>            <script src=\"https://cdnjs.cloudflare.com/ajax/libs/mathjax/2.7.5/MathJax.js?config=TeX-AMS-MML_SVG\"></script><script type=\"text/javascript\">if (window.MathJax) {MathJax.Hub.Config({SVG: {font: \"STIX-Web\"}});}</script>                <script type=\"text/javascript\">window.PlotlyConfig = {MathJaxConfig: 'local'};</script>\n",
              "        <script src=\"https://cdn.plot.ly/plotly-2.8.3.min.js\"></script>                <div id=\"eb4cb9f8-c7a8-4e14-b8bf-57f262c99cfb\" class=\"plotly-graph-div\" style=\"height:525px; width:100%;\"></div>            <script type=\"text/javascript\">                                    window.PLOTLYENV=window.PLOTLYENV || {};                                    if (document.getElementById(\"eb4cb9f8-c7a8-4e14-b8bf-57f262c99cfb\")) {                    Plotly.newPlot(                        \"eb4cb9f8-c7a8-4e14-b8bf-57f262c99cfb\",                        [{\"marker\":{\"color\":\"#7ecfc9\"},\"name\":\"Gastos Parlamentar\",\"x\":[\"Janeiro\",\"Fevereiro\",\"Mar\\u00e7o\",\"Abril\",\"Maio\",\"Junho\",\"Julho\",\"Agosto\",\"Setembro\",\"Outubro\",\"Novembro\"],\"y\":[12741471.55,15412716.01,17713390.82,17512287.200000003,18933964.97,13027951.530000001,11365843.899999999,8673056.94,6113937.470000001,9240013.39,1022535.51],\"type\":\"bar\"},{\"marker\":{\"color\":\"#04f7e3\"},\"name\":\"Gastos Gabinete\",\"x\":[\"Janeiro\",\"Fevereiro\",\"Mar\\u00e7o\",\"Abril\",\"Maio\",\"Junho\",\"Julho\",\"Agosto\",\"Setembro\",\"Outubro\",\"Novembro\"],\"y\":[46111141.52,46076647.93,46042404.52,46994416.550000004,47469506.28,47561772.36,47326328.49,47254579.36,47203589.629999995,47131487.6,0],\"type\":\"bar\"}],                        {\"barmode\":\"stack\",\"template\":{\"data\":{\"barpolar\":[{\"marker\":{\"line\":{\"color\":\"#E5ECF6\",\"width\":0.5},\"pattern\":{\"fillmode\":\"overlay\",\"size\":10,\"solidity\":0.2}},\"type\":\"barpolar\"}],\"bar\":[{\"error_x\":{\"color\":\"#2a3f5f\"},\"error_y\":{\"color\":\"#2a3f5f\"},\"marker\":{\"line\":{\"color\":\"#E5ECF6\",\"width\":0.5},\"pattern\":{\"fillmode\":\"overlay\",\"size\":10,\"solidity\":0.2}},\"type\":\"bar\"}],\"carpet\":[{\"aaxis\":{\"endlinecolor\":\"#2a3f5f\",\"gridcolor\":\"white\",\"linecolor\":\"white\",\"minorgridcolor\":\"white\",\"startlinecolor\":\"#2a3f5f\"},\"baxis\":{\"endlinecolor\":\"#2a3f5f\",\"gridcolor\":\"white\",\"linecolor\":\"white\",\"minorgridcolor\":\"white\",\"startlinecolor\":\"#2a3f5f\"},\"type\":\"carpet\"}],\"choropleth\":[{\"colorbar\":{\"outlinewidth\":0,\"ticks\":\"\"},\"type\":\"choropleth\"}],\"contourcarpet\":[{\"colorbar\":{\"outlinewidth\":0,\"ticks\":\"\"},\"type\":\"contourcarpet\"}],\"contour\":[{\"colorbar\":{\"outlinewidth\":0,\"ticks\":\"\"},\"colorscale\":[[0.0,\"#0d0887\"],[0.1111111111111111,\"#46039f\"],[0.2222222222222222,\"#7201a8\"],[0.3333333333333333,\"#9c179e\"],[0.4444444444444444,\"#bd3786\"],[0.5555555555555556,\"#d8576b\"],[0.6666666666666666,\"#ed7953\"],[0.7777777777777778,\"#fb9f3a\"],[0.8888888888888888,\"#fdca26\"],[1.0,\"#f0f921\"]],\"type\":\"contour\"}],\"heatmapgl\":[{\"colorbar\":{\"outlinewidth\":0,\"ticks\":\"\"},\"colorscale\":[[0.0,\"#0d0887\"],[0.1111111111111111,\"#46039f\"],[0.2222222222222222,\"#7201a8\"],[0.3333333333333333,\"#9c179e\"],[0.4444444444444444,\"#bd3786\"],[0.5555555555555556,\"#d8576b\"],[0.6666666666666666,\"#ed7953\"],[0.7777777777777778,\"#fb9f3a\"],[0.8888888888888888,\"#fdca26\"],[1.0,\"#f0f921\"]],\"type\":\"heatmapgl\"}],\"heatmap\":[{\"colorbar\":{\"outlinewidth\":0,\"ticks\":\"\"},\"colorscale\":[[0.0,\"#0d0887\"],[0.1111111111111111,\"#46039f\"],[0.2222222222222222,\"#7201a8\"],[0.3333333333333333,\"#9c179e\"],[0.4444444444444444,\"#bd3786\"],[0.5555555555555556,\"#d8576b\"],[0.6666666666666666,\"#ed7953\"],[0.7777777777777778,\"#fb9f3a\"],[0.8888888888888888,\"#fdca26\"],[1.0,\"#f0f921\"]],\"type\":\"heatmap\"}],\"histogram2dcontour\":[{\"colorbar\":{\"outlinewidth\":0,\"ticks\":\"\"},\"colorscale\":[[0.0,\"#0d0887\"],[0.1111111111111111,\"#46039f\"],[0.2222222222222222,\"#7201a8\"],[0.3333333333333333,\"#9c179e\"],[0.4444444444444444,\"#bd3786\"],[0.5555555555555556,\"#d8576b\"],[0.6666666666666666,\"#ed7953\"],[0.7777777777777778,\"#fb9f3a\"],[0.8888888888888888,\"#fdca26\"],[1.0,\"#f0f921\"]],\"type\":\"histogram2dcontour\"}],\"histogram2d\":[{\"colorbar\":{\"outlinewidth\":0,\"ticks\":\"\"},\"colorscale\":[[0.0,\"#0d0887\"],[0.1111111111111111,\"#46039f\"],[0.2222222222222222,\"#7201a8\"],[0.3333333333333333,\"#9c179e\"],[0.4444444444444444,\"#bd3786\"],[0.5555555555555556,\"#d8576b\"],[0.6666666666666666,\"#ed7953\"],[0.7777777777777778,\"#fb9f3a\"],[0.8888888888888888,\"#fdca26\"],[1.0,\"#f0f921\"]],\"type\":\"histogram2d\"}],\"histogram\":[{\"marker\":{\"pattern\":{\"fillmode\":\"overlay\",\"size\":10,\"solidity\":0.2}},\"type\":\"histogram\"}],\"mesh3d\":[{\"colorbar\":{\"outlinewidth\":0,\"ticks\":\"\"},\"type\":\"mesh3d\"}],\"parcoords\":[{\"line\":{\"colorbar\":{\"outlinewidth\":0,\"ticks\":\"\"}},\"type\":\"parcoords\"}],\"pie\":[{\"automargin\":true,\"type\":\"pie\"}],\"scatter3d\":[{\"line\":{\"colorbar\":{\"outlinewidth\":0,\"ticks\":\"\"}},\"marker\":{\"colorbar\":{\"outlinewidth\":0,\"ticks\":\"\"}},\"type\":\"scatter3d\"}],\"scattercarpet\":[{\"marker\":{\"colorbar\":{\"outlinewidth\":0,\"ticks\":\"\"}},\"type\":\"scattercarpet\"}],\"scattergeo\":[{\"marker\":{\"colorbar\":{\"outlinewidth\":0,\"ticks\":\"\"}},\"type\":\"scattergeo\"}],\"scattergl\":[{\"marker\":{\"colorbar\":{\"outlinewidth\":0,\"ticks\":\"\"}},\"type\":\"scattergl\"}],\"scattermapbox\":[{\"marker\":{\"colorbar\":{\"outlinewidth\":0,\"ticks\":\"\"}},\"type\":\"scattermapbox\"}],\"scatterpolargl\":[{\"marker\":{\"colorbar\":{\"outlinewidth\":0,\"ticks\":\"\"}},\"type\":\"scatterpolargl\"}],\"scatterpolar\":[{\"marker\":{\"colorbar\":{\"outlinewidth\":0,\"ticks\":\"\"}},\"type\":\"scatterpolar\"}],\"scatter\":[{\"marker\":{\"colorbar\":{\"outlinewidth\":0,\"ticks\":\"\"}},\"type\":\"scatter\"}],\"scatterternary\":[{\"marker\":{\"colorbar\":{\"outlinewidth\":0,\"ticks\":\"\"}},\"type\":\"scatterternary\"}],\"surface\":[{\"colorbar\":{\"outlinewidth\":0,\"ticks\":\"\"},\"colorscale\":[[0.0,\"#0d0887\"],[0.1111111111111111,\"#46039f\"],[0.2222222222222222,\"#7201a8\"],[0.3333333333333333,\"#9c179e\"],[0.4444444444444444,\"#bd3786\"],[0.5555555555555556,\"#d8576b\"],[0.6666666666666666,\"#ed7953\"],[0.7777777777777778,\"#fb9f3a\"],[0.8888888888888888,\"#fdca26\"],[1.0,\"#f0f921\"]],\"type\":\"surface\"}],\"table\":[{\"cells\":{\"fill\":{\"color\":\"#EBF0F8\"},\"line\":{\"color\":\"white\"}},\"header\":{\"fill\":{\"color\":\"#C8D4E3\"},\"line\":{\"color\":\"white\"}},\"type\":\"table\"}]},\"layout\":{\"annotationdefaults\":{\"arrowcolor\":\"#2a3f5f\",\"arrowhead\":0,\"arrowwidth\":1},\"autotypenumbers\":\"strict\",\"coloraxis\":{\"colorbar\":{\"outlinewidth\":0,\"ticks\":\"\"}},\"colorscale\":{\"diverging\":[[0,\"#8e0152\"],[0.1,\"#c51b7d\"],[0.2,\"#de77ae\"],[0.3,\"#f1b6da\"],[0.4,\"#fde0ef\"],[0.5,\"#f7f7f7\"],[0.6,\"#e6f5d0\"],[0.7,\"#b8e186\"],[0.8,\"#7fbc41\"],[0.9,\"#4d9221\"],[1,\"#276419\"]],\"sequential\":[[0.0,\"#0d0887\"],[0.1111111111111111,\"#46039f\"],[0.2222222222222222,\"#7201a8\"],[0.3333333333333333,\"#9c179e\"],[0.4444444444444444,\"#bd3786\"],[0.5555555555555556,\"#d8576b\"],[0.6666666666666666,\"#ed7953\"],[0.7777777777777778,\"#fb9f3a\"],[0.8888888888888888,\"#fdca26\"],[1.0,\"#f0f921\"]],\"sequentialminus\":[[0.0,\"#0d0887\"],[0.1111111111111111,\"#46039f\"],[0.2222222222222222,\"#7201a8\"],[0.3333333333333333,\"#9c179e\"],[0.4444444444444444,\"#bd3786\"],[0.5555555555555556,\"#d8576b\"],[0.6666666666666666,\"#ed7953\"],[0.7777777777777778,\"#fb9f3a\"],[0.8888888888888888,\"#fdca26\"],[1.0,\"#f0f921\"]]},\"colorway\":[\"#636efa\",\"#EF553B\",\"#00cc96\",\"#ab63fa\",\"#FFA15A\",\"#19d3f3\",\"#FF6692\",\"#B6E880\",\"#FF97FF\",\"#FECB52\"],\"font\":{\"color\":\"#2a3f5f\"},\"geo\":{\"bgcolor\":\"white\",\"lakecolor\":\"white\",\"landcolor\":\"#E5ECF6\",\"showlakes\":true,\"showland\":true,\"subunitcolor\":\"white\"},\"hoverlabel\":{\"align\":\"left\"},\"hovermode\":\"closest\",\"mapbox\":{\"style\":\"light\"},\"paper_bgcolor\":\"white\",\"plot_bgcolor\":\"#E5ECF6\",\"polar\":{\"angularaxis\":{\"gridcolor\":\"white\",\"linecolor\":\"white\",\"ticks\":\"\"},\"bgcolor\":\"#E5ECF6\",\"radialaxis\":{\"gridcolor\":\"white\",\"linecolor\":\"white\",\"ticks\":\"\"}},\"scene\":{\"xaxis\":{\"backgroundcolor\":\"#E5ECF6\",\"gridcolor\":\"white\",\"gridwidth\":2,\"linecolor\":\"white\",\"showbackground\":true,\"ticks\":\"\",\"zerolinecolor\":\"white\"},\"yaxis\":{\"backgroundcolor\":\"#E5ECF6\",\"gridcolor\":\"white\",\"gridwidth\":2,\"linecolor\":\"white\",\"showbackground\":true,\"ticks\":\"\",\"zerolinecolor\":\"white\"},\"zaxis\":{\"backgroundcolor\":\"#E5ECF6\",\"gridcolor\":\"white\",\"gridwidth\":2,\"linecolor\":\"white\",\"showbackground\":true,\"ticks\":\"\",\"zerolinecolor\":\"white\"}},\"shapedefaults\":{\"line\":{\"color\":\"#2a3f5f\"}},\"ternary\":{\"aaxis\":{\"gridcolor\":\"white\",\"linecolor\":\"white\",\"ticks\":\"\"},\"baxis\":{\"gridcolor\":\"white\",\"linecolor\":\"white\",\"ticks\":\"\"},\"bgcolor\":\"#E5ECF6\",\"caxis\":{\"gridcolor\":\"white\",\"linecolor\":\"white\",\"ticks\":\"\"}},\"title\":{\"x\":0.05},\"xaxis\":{\"automargin\":true,\"gridcolor\":\"white\",\"linecolor\":\"white\",\"ticks\":\"\",\"title\":{\"standoff\":15},\"zerolinecolor\":\"white\",\"zerolinewidth\":2},\"yaxis\":{\"automargin\":true,\"gridcolor\":\"white\",\"linecolor\":\"white\",\"ticks\":\"\",\"title\":{\"standoff\":15},\"zerolinecolor\":\"white\",\"zerolinewidth\":2}}},\"title\":{\"text\":\"Gr\\u00e1fico de Gastos dos Parlamentares no ano de 2022\"},\"xaxis\":{\"title\":{\"text\":\"Meses\"}},\"yaxis\":{\"title\":{\"text\":\"Total de gastos\"}}},                        {\"responsive\": true}                    ).then(function(){\n",
              "                            \n",
              "var gd = document.getElementById('eb4cb9f8-c7a8-4e14-b8bf-57f262c99cfb');\n",
              "var x = new MutationObserver(function (mutations, observer) {{\n",
              "        var display = window.getComputedStyle(gd).display;\n",
              "        if (!display || display === 'none') {{\n",
              "            console.log([gd, 'removed!']);\n",
              "            Plotly.purge(gd);\n",
              "            observer.disconnect();\n",
              "        }}\n",
              "}});\n",
              "\n",
              "// Listen for the removal of the full notebook cells\n",
              "var notebookContainer = gd.closest('#notebook-container');\n",
              "if (notebookContainer) {{\n",
              "    x.observe(notebookContainer, {childList: true});\n",
              "}}\n",
              "\n",
              "// Listen for the clearing of the current output cell\n",
              "var outputEl = gd.closest('.output');\n",
              "if (outputEl) {{\n",
              "    x.observe(outputEl, {childList: true});\n",
              "}}\n",
              "\n",
              "                        })                };                            </script>        </div>\n",
              "</body>\n",
              "</html>"
            ]
          },
          "metadata": {}
        }
      ]
    },
    {
      "cell_type": "markdown",
      "source": [
        "**Gráfico 3**: Crie uma pergunta interessante sobre os dados e a responda usando um gráfico interativo. Comente o que é observado no gráfico (i.e., a resposta para a pergunta que foi formulada)."
      ],
      "metadata": {
        "id": "3JUG_hEgRIDu"
      }
    },
    {
      "cell_type": "markdown",
      "source": [
        "**Pergunta:** Qual o nome dos deputados(as) que tiveram maior quantidade de gastos no gabinete?"
      ],
      "metadata": {
        "id": "QEEmoJmX5tkX"
      }
    },
    {
      "cell_type": "markdown",
      "source": [
        "Comentário/Resposta: Foi gerado um gráfico do tipo scatter plot com mouse over. No gráfico é possivel observar que o total de gastos no gabinete para a maioria dos deputados foi bem parecida ficando entre 1 milhão e 1,2 milhões. É possivel observar também que apenas um deputado ficou abaixo de um gasto acima de 400 mil reais, gastando cerca de 85 mil reias."
      ],
      "metadata": {
        "id": "Mp2UWXFO52GB"
      }
    },
    {
      "cell_type": "code",
      "source": [
        "fig = px.scatter(df, y='gasto_total_gab',\n",
        "                 size='gasto_total_gab', hover_data=['nome'])\n",
        "fig.update_layout(\n",
        "    title = {\n",
        "      'text' : '<b>' + 'Gasto total no gabinete para cada deputado(a)' + '</b>',\n",
        "      'x' : 0.5,\n",
        "      'xanchor': 'center'\n",
        "    },\n",
        "    xaxis = {'title': 'Índice'},\n",
        "    yaxis = {'title': 'Total de gasto no gabinete'}\n",
        ")\n",
        "fig.show()"
      ],
      "metadata": {
        "id": "AFLbaPgwQ68G",
        "colab": {
          "base_uri": "https://localhost:8080/",
          "height": 542
        },
        "outputId": "963db6ce-1c61-413a-e4c8-3851b610d5f8"
      },
      "execution_count": 50,
      "outputs": [
        {
          "output_type": "display_data",
          "data": {
            "text/html": [
              "<html>\n",
              "<head><meta charset=\"utf-8\" /></head>\n",
              "<body>\n",
              "    <div>            <script src=\"https://cdnjs.cloudflare.com/ajax/libs/mathjax/2.7.5/MathJax.js?config=TeX-AMS-MML_SVG\"></script><script type=\"text/javascript\">if (window.MathJax) {MathJax.Hub.Config({SVG: {font: \"STIX-Web\"}});}</script>                <script type=\"text/javascript\">window.PlotlyConfig = {MathJaxConfig: 'local'};</script>\n",
              "        <script src=\"https://cdn.plot.ly/plotly-2.8.3.min.js\"></script>                <div id=\"5e0c7cf7-1712-41a0-9a7f-bf8d354ffcdd\" class=\"plotly-graph-div\" style=\"height:525px; width:100%;\"></div>            <script type=\"text/javascript\">                                    window.PLOTLYENV=window.PLOTLYENV || {};                                    if (document.getElementById(\"5e0c7cf7-1712-41a0-9a7f-bf8d354ffcdd\")) {                    Plotly.newPlot(                        \"5e0c7cf7-1712-41a0-9a7f-bf8d354ffcdd\",                        [{\"customdata\":[[\"FERNANDO BEZERRA DE SOUZA COELHO FILHO\"],[\"FREDERICO BORGES DA COSTA\"],[\"ANTONIO RIBEIRO\"],[\"FLAVIANO FL\\u00c1VIO BAPTISTA DE MELO\"],[\"FRANCO CARTAFINA GOMES\"],[\"FILIPE BARROS BAPTISTA DE TOLEDO RIBEIRO\"],[\"FL\\u00c1VIO RODRIGUES NOGUEIRA\"],[\"FRANCISCO RODRIGUES VALE JUNIOR\"],[\"FERNANDO MONTEIRO DE ALBUQUERQUE\"],[\"FERNANDO RODOLFO TENORIO DE VASCONCELOS\"],[\"GELSON DE AZEVEDO ALMEIDA\"],[\"GENECIAS MATEUS NORONHA\"],[\"ELI\\u00c9SER GIR\\u00c3O MONTEIRO FILHO\"],[\"ROBERTO SEBASTI\\u00c3O PETERNELLI JUNIOR\"],[\"GERV\\u00c1SIO AGRIPINO MAIA\"],[\"FERNANDO L\\u00daCIO GIACOBO\"],[\"GILLIANO FRED NASCIMENTO CUTRIM\"],[\"EUGENIO JOS\\u00c9 ZULIANI\"],[\"GILBERTO NASCIMENTO SILVA\"],[\"GILSON MARQUES VIEIRA\"],[\"GIOVANI CHERINI\"],[\"GILBERTO APARECIDO ABRAMO\"],[\"DANIEL GOMES DE ALMEIDA\"],[\"GIOVANI BATISTA FELTES\"],[\"DANIEL PIRES COELHO\"],[\"DANIEL LUCIO DA SILVEIRA\"],[\"DANIEL COSTA DE FREITAS\"],[\"DAVID MICHAEL DOS SANTOS MIRANDA\"],[\"DAVID BEZERRA RIBEIRO SOARES\"],[\"DANIEL TRZECIAK DUARTE\"],[\"DANILO JORGE DE BARROS CABRAL\"],[\"FRANCISCO DANILO BASTOS FORTE\"],[\"DARCI DE MATOS\"],[\"DANRLEI DE DEUS HINTERHOLZ\"],[\"ANT\\u00d4NIO DA LUZ FURTADO\"],[\"PABLO OLIVA SOUZA\"],[\"EDER MAURO CARDOSO BARRA\"],[\"MARCELO EDUARDO FREITAS\"],[\"WALDIR SOARES DE OLIVEIRA\"],[\"DENIS ANDERSON DA ROCHA BEZERRA\"],[\"DIEGO LEONARDO DE ANDRADE CARVALHO\"],[\"DIEGO ALEXSANDER GONCALO PAULA GARCIA\"],[\"DIMAS FABIANO TOLEDO J\\u00daNIOR\"],[\"LUIZ ANTONIO DE SOUZA TEIXEIRA J\\u00daNIOR\"],[\"DOMINGOS GOMES DE AGUIAR NETO\"],[\"JAZIEL PEREIRA DE SOUSA\"],[\"DOMINGOS S\\u00c1VIO CAMPOS RESENDE\"],[\"FREDERICO DE CASTRO ESCALEIRA\"],[\"LEONARDO RIBEIRO ALBUQUERQUE\"],[\"LUIZ ALBERTO OVANDO\"],[\"ZACARIAS CALIL HAMU\"],[\"EDILAZIO GOMES DA SILVA JUNIOR\"],[\"\\u00c9DIO VIEIRA LOPES\"],[\"EDUARDO LUIZ BARROS BARBOSA\"],[\"EDUARDO HENRIQUE MAIA BISMARCK\"],[\"EDUARDO NANTES BOLSONARO\"],[\"JOSE EDUARDO PEREIRA DA COSTA\"],[\"ADRIANO ELI CORR\\u00caA\"],[\"ELIAS VAZ DE ANDRADE\"],[\"ELMAR JOSE VIEIRA NASCIMENTO\"],[\"EDUARDO HENRIQUE DA FONTE DE ALBUQUERQUE SILVA\"],[\"EDUARDO PEDROSA CURY\"],[\"EFRAIM DE ARA\\u00daJO MORAIS FILHO\"],[\"EMIDIO ALVES MADEIRA JUNIOR\"],[\"EMANUEL PINHEIRO DA SILVA PRIMO\"],[\"ENIO JOS\\u00c9 VERRI\"],[\"ENRICO VAN BLARCUM DE GRAAFF MISASI\"],[\"EXPEDITO GONCALVES FERREIRA NETTO\"],[\"EROS FERREIRA BIONDINI\"],[\"EUCLYDES MARCOS PETTERSEN NETO\"],[\"FABIO DE ALMEIDA REIS\"],[\"EVAIR VIEIRA DE MELO\"],[\"FABIO HENRIQUE SANTANA DE CARVALHO\"],[\"F\\u00c1BIO AUGUSTO RAMALHO DOS SANTOS\"],[\"FABIO CRUZ MITIDIERI\"],[\"FAUSTO RUY PINATO\"],[\"F\\u00c1BIO LUIZ SCHIOCHET FILHO\"],[\"F\\u00c1BIO RICARDO TRAD\"],[\"FEL\\u00cdCIO LATER\\u00c7A DE ALMEIDA\"],[\"CASSIO COELHO ANDRADE\"],[\"FELIPE AUGUSTO LYRA CARRERAS\"],[\"LUIS FELIPE BONATTO FRANCISCHINI\"],[\"FELIPE RIGONI LOPES\"],[\"FELIX DE ALMEIDA MENDON\\u00c7A J\\u00daNIOR\"],[\"JOS\\u00c9 CARLOS VERAS DOS SANTOS\"],[\"CARLOS ALBERTO ROLIM ZARATTINI\"],[\"CELIO ANTONIO DA SILVEIRA\"],[\"CELIO ALVES DE MOURA\"],[\"CELIO STUDART BARBOSA\"],[\"CELSO MALDANER\"],[\"CELSO SABINO DE OLIVEIRA\"],[\"ANTONIO CEZAR CORREIA FREIRE\"],[\"CHARLES FERNANDES SILVEIRA SANTANA\"],[\"CHARLLES THOMACELLI EVANGELISTA\"],[\"CELSO UBIRAJARA RUSSOMANNO\"],[\"ELI DIAS BORGES\"],[\"FRANCISCO JOS\\u00c9 D'ANGELO PINTO\"],[\"JO\\u00c3O FRANCISCO IN\\u00c1CIO BRAZ\\u00c3O\"],[\"CLEBER VERDE CORDEIRO MENDES\"],[\"CHRISTINO AUREO DA SILVA\"],[\"LUIZ ARMANDO SCHROEDER REIS\"],[\"JO\\u00c3O CHRIS\\u00d3STOMO DE MOURA\"],[\"CL\\u00c1UDIO CAJADO SAMPAIO\"],[\"MARCIO TADEU ANHAIA DE LEMOS\"],[\"LUIS ANTONIO FRANCISCATTO COVATTI\"],[\"CRISTIANO DUTRA VALE\"],[\"JOSIAS MARIO DA VITORIA\"],[\"JO\\u00c3O CARLOS SOARES GURGEL\"],[\"DAGOBERTO NOGUEIRA FILHO\"],[\"GLAUSKSTON BATISTA RIOS\"],[\"DAMI\\u00c3O FELICIANO DA SILVA\"],[\"LUIZ GONZAGA PATRIOTA\"],[\"GLAUBER DE MEDEIROS BRAGA\"],[\"JOS\\u00c9 GUILHERME NEGR\\u00c3O PEIXOTO\"],[\"GUILHERME MUSSI FERREIRA\"],[\"GUSTAVO BONATO FRUET\"],[\"LUIZ AUGUSTO CARVALHO RIBEIRO FILHO\"],[\"HELIO LEITE DA SILVA\"],[\"HEITOR RODRIGO PEREIRA FREIRE\"],[\"HAROLDO ALVES CAMPOS\"],[\"HEITOR JOSE SCHUCH\"],[\"HELDER IGNACIO SALOMAO\"],[\"H\\u00c9LIO FRANCISCO DA COSTA\"],[\"GUTEMBERG REIS DE OLIVEIRA\"],[\"HENRIQUE FONTANA J\\u00daNIOR\"],[\"HELIO FERNANDO BARBOSA LOPES\"],[\"HERC\\u00cdLIO ARA\\u00daJO DINIZ FILHO\"],[\"HERCULANO CASTILHO PASSOS JUNIOR\"],[\"HERMES PARCIANELLO\"],[\"HUMBERTO REZENDE PEREIRA\"],[\"HILDO AUGUSTO DA ROCHA NETO\"],[\"HIRAN MANUEL GONCALVES DA SILVA\"],[\"HUGO LEAL MELO DA SILVA\"],[\"HUGO MOTTA WANDERLEY DA N\\u00d3BREGA\"],[\"LUIZ BENES LEOCADIO DE ARAUJO\"],[\"JOS\\u00c9 ROBERTO OLIVEIRA FARO\"],[\"CARLOS ALBERTO DE SOUSA ROSADO SEGUNDO\"],[\"UBIRAJARA DO PINDAR\\u00c9 ALMEIDA SOUSA\"],[\"ALCIBIO MESQUITA BIBO NUNES\"],[\"OLAVO BILAC PINTO NETO\"],[\"CARLOS FELIPE VAZQUEZ DE SOUZA LE\\u00c3O\"],[\"JO\\u00c3O BOSCO GOMES SARAIVA\"],[\"ELVINO JOS\\u00c9 BOHN GASS\"],[\"NICOLINO BOZZELLA JUNIOR\"],[\"JO\\u00c3O BOSCO DA COSTA\"],[\"ALBERTO BARROS CAVALCANTE NETO\"],[\"JOSE AUGUSTO ROSA\"],[\"CARLOS CAMILO G\\u00d3ES CAPIBERIBE\"],[\"GUILHERME MURARO DERRITE\"],[\"FABIO ABREU COSTA\"],[\"CARLOS GOMES BEZERRA\"],[\"WAGNER SOUSA GOMES\"],[\"CARLOS ALBERTO CHIODINI\"],[\"ANTONIO CARLOS GOMES DA SILVA\"],[\"CARLOS HENRIQUE AMORIM\"],[\"JOS\\u00c9 NUNES SOARES\"],[\"Carlos Roberto Coelho de Mattos J\\u00fanior\"],[\"JOS\\u00c9 BENITO PRIANTE J\\u00daNIOR\"],[\"CARLOS HENRIQUE FOCESI SAMPAIO\"],[\"JOS\\u00c9 NOBRE GUIMAR\\u00c3ES\"],[\"JOSE MARIO SCHREINER\"],[\"JOSE ANTONIO DOS SANTOS MEDEIROS\"],[\"JOS\\u00c9 NELTO LAGARES DAS MERCEZ\"],[\"JOS\\u00c9 RICARDO WENDLING\"],[\"JOSEILDO RIBEIRO RAMOS\"],[\"JOSIVALDO DOS SANTOS MELO\"],[\"GULLIEM CHARLES BEZERRA LEMOS\"],[\"JOS\\u00c9 ALVES ROCHA\"],[\"JOSIMAR CUNHA RODRIGUES\"],[\"JUAREZ ALVES DA COSTA\"],[\"JOSIAS GOMES DA SILVA\"],[\"J\\u00daLIO C\\u00c9SAR DE CARVALHO LIMA\"],[\"JULIO CESAR RIBEIRO\"],[\"ROGERIO TEIXEIRA JUNIOR\"],[\"GERALDO JUNIO DO AMARAL\"],[\"J\\u00daLIO C\\u00c9SAR DELGADO\"],[\"JO\\u00c3O FERRARI J\\u00daNIOR\"],[\"JOSE LOUREN\\u00c7O BOMFIM JUNIOR\"],[\"JOSE JUSCELINO DOS SANTOS REZENDE FILHO\"],[\"ANT\\u00d4NIO LUIZ RODRIGUES MANO J\\u00daNIOR\"],[\"KIM PATROCA KATAGUIRI\"],[\"LAERCIO JOS\\u00c9 DE OLIVEIRA\"],[\"ELIEL M\\u00c1RCIO DO CARMO\"],[\"LAFAYETTE LUIZ DOORGAL DE ANDRADA\"],[\"LEONARDO BARRETO DE MORAES\"],[\"LEONARDO CUNHA DE BRITO\"],[\"JOS\\u00c9 LEONARDO COSTA MONTEIRO\"],[\"JOS\\u00c9 LE\\u00d4NIDAS DE MENEZES CRISTINO\"],[\"LOESTER CARLOS GOMES DE SOUZA\"],[\"LOURIVAL GOMES DE ALMEIDA\"],[\"LEUR ANTONIO DE BRITTO LOMANTO JUNIOR\"],[\"LINCOLN DINIZ PORTELA\"],[\"LUCAS DE VASCONCELOS GONZALEZ\"],[\"LUCAS BELLO REDECKER\"],[\"LUIZ ANTONIO C. C. CORR\\u00caA DA SILVA\"],[\"LUCIANO DUCCI\"],[\"LUIS HENRIQUE DE OLIVEIRA RESENDE\"],[\"LUCAS DE CASTRO SANTOS\"],[\"LUCIANO CALDAS BIVAR\"],[\"LUIS CLAUDIO FERNANDES MIRANDA\"],[\"LUCIO ANTONIO MOSQUINI\"],[\"M\\u00c1RCIO COSTA MAC\\u00caDO\"],[\"MARCO AURELIO BERTAIOLLI\"],[\"M\\u00c1RCIO CARLOS MARINHO\"],[\"MARCOS AUR\\u00c9LIO  P\\u00c1DUA RIBEIRO GON\\u00c7ALVES DE SAMPAIO\"],[\"DIONILSO MATEUS MARCON\"],[\"MARLON ARATOR SANTOS DA ROSA\"],[\"MARIO S. M. NEGROMONTE JR.\"],[\"M\\u00c1RIO L\\u00daCIO HERINGER\"],[\"MARCOS ANTONIO PEREIRA\"],[\"MARX BELTR\\u00c3O LIMA SIQUEIRA\"],[\"MAUR\\u00cdCIO ALEXANDRE DZIEDRICKI\"],[\"ANTONIO DA CRUZ FILGUEIRA NETO\"],[\"MAURO RIBEIRO LOPES\"],[\"CARLOS MAURO BENEVIDES FILHO\"],[\"MAURO NAZIF RASUL\"],[\"MERLONG SOLANO NOGUEIRA\"],[\"MIGUEL LOMBARDI\"],[\"MILTON COELHO DA SILVA NETO\"],[\"NEY LEPREVOST NETO\"],[\"NEWTON CARDOSO JUNIOR\"],[\"MILTON VIEIRA PINTO\"],[\"MISAEL ARTUR FERREIRA VARELLA\"],[\"NELSON NED PREVIDENTE\"],[\"NEREU CRISPIM\"],[\"NEUCIMAR FERREIRA FRAGA\"],[\"NERI GELLER\"],[\"ANTONIO CARLOS NICOLETTI\"],[\"NILSON PINTO DE OLIVEIRA\"],[\"NILTO IGNACIO TATTO\"],[\"NIVALDO FERREIRA DE ALBUQUERQUE NETO\"],[\"ODAIR JOS\\u00c9 DA CUNHA\"],[\"OLIVAL HENRIQUE MARQUES DE SOUZA\"],[\"ONYX DORNELLES LORENZONI\"],[\"OTONI MOURA DE PAULO JUNIOR\"],[\"JOSE OTACI BARROSO DO NASCIMENTO\"],[\"OSSESIO JOSE DA SILVA\"],[\"OSIRES RODRIGUES DAMASO\"],[\"OSMAR GASPARINI TERRA\"],[\"ORLANDO SILVA DE JESUS JUNIOR\"],[\"OSMAR JOS\\u00c9 SERRAGLIO\"],[\"LUIZ CARLOS GOMES DOS SANTOS JUNIOR\"],[\"LUIZ EDUARDO CARNEIRO DA SILVA DE SOUZA LIMA\"],[\"OTTO ROBERTO MENDON\\u00c7A DE ALENCAR FILHO\"],[\"LUIZ HILOSHI NISHIMORI\"],[\"LUIZ CARLOS MOTTA\"],[\"LUIZ PHILIPPE DE ORLEANS BRAGAN\\u00c7A\"],[\"LUIZ GOULARTE ALVES\"],[\"VITOR HUGO DE ARAUJO ALMEIDA\"],[\"MARCEL VAN HATTEM\"],[\"MARCELO HENRIQUE TEIXEIRA DIAS\"],[\"MARCELO GUILHERME DE ARO FERREIRA\"],[\"MARCELO CALERO FARIA GARCIA\"],[\"MARCELO RIBEIRO FREIXO\"],[\"MARCELO PIRES MORAES\"],[\"M\\u00c1RCIO JERRY SARAIVA BARROSO\"],[\"M\\u00c1RCIO DA SILVEIRA LABRE\"],[\"JOS\\u00c9 MARCELO DO NASCIMENTO NILO\"],[\"MARCELO RAMOS RODRIGUES\"],[\"PEDRO AUGUSTO PALARETI\"],[\"PEDRO LUCAS ANDRADE FERNANDES RIBEIRO\"],[\"PEDRO DEBONI LUPION MELLO\"],[\"MARCIO LUIZ ALVINO DE SOUZA\"],[\"MARCIO DELLA VALLE BIOLCHI\"],[\"PEDRO OLIVEIRA CUNHA LIMA\"],[\"PEDRO BANDARRA WESTPHALEN\"],[\"ANT\\u00d4NIO PINHEIRO NETO\"],[\"PEDRO TORRES BRAND\\u00c3O VILELA\"],[\"PEDRO PAULO CARVALHO TEIXEIRA\"],[\"PEDRO FRANCISCO UCZAI\"],[\"ALCIDES RIBEIRO FILHO\"],[\"DARCI POMPEO DE MATTOS\"],[\"RAFAEL HUETE DA MOTTA\"],[\"ISRAEL MATOS BATISTA\"],[\"JOZIEL FERREIRA CARLOS\"],[\"RAIMUNDO MAGALH\\u00c3ES COSTA\"],[\"RAUL JEAN LOUIS HENRY J\\u00daNIOR\"],[\"REGINALDO L\\u00c1ZARO DE OLIVEIRA LOPES\"],[\"RICARDO CORREA DE BARROS\"],[\"RENILDO VASCONCELOS CALHEIROS\"],[\"RICARDO JOS\\u00c9 MAGALH\\u00c3ES BARROS\"],[\"GILDENEMIR DE LIMA SOUSA\"],[\"JO\\u00c3O CARLOS SIQUEIRA\"],[\"RICARDO ZANATTA GUIDI\"],[\"RICARDO IZAR JUNIOR\"],[\"MARCO ANT\\u00d4NIO FELICIANO\"],[\"MANOEL ISIDORIO DE SANTANA JUNIOR\"],[\"PATRUS ANANIAS DE SOUZA\"],[\"FRANCISCO EURICO DA SILVA\"],[\"PAULO FERNANDO DOS SANTOS\"],[\"PAULO PEREIRA DA SILVA\"],[\"PAULO ABI-ACKEL\"],[\"PAULO VELLOSO DANTAS AZI\"],[\"PAULO ROBERTO FOLETTO\"],[\"PAULO GUSTAVO GANIME ALVES TEIXEIRA\"],[\"PAULO ROBERTO FREIRE DA COSTA\"],[\"PAULO EDUARDO LIMA MARTINS\"],[\"PAULO EDUARDO MAESTRI BENGTSON\"],[\"PAULO ROBERTO SEVERO PIMENTA\"],[\"PAULO JOSE CARLOS GUEDES\"],[\"Paulo S\\u00e9rgio Ramos Barboza\"],[\"LUIZ PAULO TEIXEIRA FERREIRA\"],[\"PEDRO AUGUSTO GEROMEL BEZERRA DE MENEZES\"],[\"RICARDO AUGUSTO MACHADO DA SILVA\"],[\"RICARDO TEOBALDO CAVALCANTI\"],[\"MARCOS ROBERIO RIBEIRO MONTEIRO\"],[\"BENEDITO ROBERTO ALVES FERREIRA\"],[\"RODRIGO ANTONIO DE AGOSTINHO MENDON\\u00c7A\"],[\"ROBERTO ALVES DE LUCENA\"],[\"RODRIGO COELHO\"],[\"RODRIGO BATISTA DE CASTRO\"],[\"RODRIGO FELINTO IBARRA EPIT\\u00c1CIO MAIA\"],[\"ROG\\u00c9RIO CORREIA DE MOURA BAPTISTA\"],[\"RONALDO MANCHADO MARTINS\"],[\"VALDIR LUIZ ROSSONI\"],[\"RUBENS OTONI GOMIDE\"],[\"RUBENS PEREIRA E SILVA JUNIOR\"],[\"ROG\\u00c9RIO MENDON\\u00c7A\"],[\"RONALDO CARLETTO\"],[\"RUBENS BUENO\"],[\"JOS\\u00c9 WILSON SANTIAGO\"],[\"WOLNEY QUEIROZ MACIEL\"],[\"RUY MANUEL CARNEIRO BARBOSA DE ACA BELCHIOR\"],[\"RUI GOETHE DA COSTA FALC\\u00c3O\"],[\"SAMUEL MOREIRA DA SILVA JUNIOR\"],[\"UBIRATAN ANTUNES SANDERSON\"],[\"SANDRO ALEX CRUZ DE OLIVEIRA\"],[\"JOS\\u00c9 CERQUEIRA DE SANTANA NETO\"],[\"JOS\\u00c9 SILVA SOARES\"],[\"JOS\\u00c9 CARLOS NUNES J\\u00daNIOR\"],[\"JOSE VITOR DE RESENDE AGUIAR\"],[\"JOS\\u00c9 CARLOS BECKER DE OLIVEIRA E SILVA\"],[\"SIDNEY RICARDO DE OLIVEIRA LEITE\"],[\"GILSON CARDOSO FAHUR\"],[\"SEBASTIAO IGNACIO DE OLIVEIRA JUNIOR\"],[\"S\\u00c9RGIO LU\\u00cdS LACERDA BRITO\"],[\"SILAS C\\u00c2MARA\"],[\"SERGIO DE SOUZA\"],[\"SEVERINO DE LIRA PESS\\u00d4A\"],[\"SERGIO TOLEDO DE ALBUQUERQUE\"],[\"SILVIO SERAFIM COSTA FILHO\"],[\"FRANCISCO TADEU BARBOSA DE ALENCAR\"],[\"SOSTENES SILVA CAVALCANTE\"],[\"LUIZ GONZAGA RIBEIRO\"],[\"STEFANO AGUIAR DOS SANTOS\"],[\"CARLOS TITO MARQUES CORDEIRO\"],[\"Tiago Dimas Braga Pereira\"],[\"FRANCISCO EVERARDO TIRIRICA OLIVEIRA SILVA\"],[\"TIAGO LIMA MITRAUD DE CASTRO LEITE\"],[\"ANTONIO WANDSCHEER\"],[\"T\\u00daLIO GAD\\u00caLHA SALES DE MELO\"],[\"ULDURICO ALENCAR PINTO\"],[\"FRANCISCO VAIDON OLIVEIRA\"],[\"VALMIR CARLOS DA ASSUN\\u00c7\\u00c3O\"],[\"VANDER LUIZ DOS SANTOS LOUBET\"],[\"VANDERLEI MACRIS\"],[\"WAGNER BACH MARTINS\"],[\"NELSI COGUETTO MARIA\"],[\"VINICIUS LAZZER POIT\"],[\"VICENTE PAULO DA SILVA\"],[\"VITOR LIPPI\"],[\"WALTER PEREIRA ALVES\"],[\"VICENTE ALVES DE OLIVEIRA JUNIOR\"],[\"VINICIUS MEDEIROS FARAH\"],[\"VILSON LUIZ DA SILVA\"],[\"VINICIUS RAPOZO DE CARVALHO\"],[\"WALDENOR ALVES PEREIRA FILHO\"],[\"JOS\\u00c9 WELLINGTON ROBERTO\"],[\"WELITON FERNANDES PRADO\"],[\"ADRIANA MIGUEL VENTURA\"],[\"ANGELA REGINA HEINZEN AMIN HELOU\"],[\"ALINE SLEUTJES\"],[\"ANT\\u00d4NIA LUCIL\\u00c9IA CRUZ RAMOS C\\u00c2MARA\"],[\"ALESSANDRA SILVA RIBEIRO\"],[\"ALICE MAZZUCO PORTUGAL\"],[\"ALINE PARANHOS VARONIL GURGEL\"],[\"BRUNA DIAS FURLAN VICENTE\"],[\"\\u00c1UREA CAROLINA DE FREITAS E SILVA\"],[\"BEATRIZ KICIS TORRENTS DE SORDI\"],[\"BENEDITA SOUZA DA SILVA SAMPAIO\"],[\"HILKEA CARLA DE SOUZA MEDEIROS LIMA\"],[\"CARLA ZAMBELLI SALGADO DE OLIVEIRA\"],[\"CARMEN EM\\u00cdLIA BONF\\u00c1 ZANOTTO\"],[\"CHRISTINE NOGUEIRA DOS REIS TONIETTO\"],[\"CELINA LEAO HIZIM FERREIRA\"],[\"CAROLINE RODRIGUES DE TONI\"],[\"VANDA DENIR MILANI NOGUEIRA\"],[\"CLARISSA BARROS ASSED MATHEUS DE OLIVEIRA\"],[\"DANIELA MOTE DE SOUZA CARNEIRO\"],[\"CHRISTIANE DE SOUZA YARED\"],[\"SORAYA DE SOUZA MANNATO\"],[\"ROSANA DE OLIVEIRA VALLE\"],[\"DULCE FERREIRA PAGANI MIRANDA\"],[\"EDNACE ALVES SILVESTRE HENRIQUE\"],[\"ROSANGELA DE SOUZA GOMES\"],[\"RENATA HELLMEISTER DE ABREU\"],[\"ROSIANE MODESTO  DE OLIVEIRA\"],[\"SAMIA DE SOUZA BOMFIM\"],[\"SH\\u00c9RIDAN EST\\u00c9RFANY OLIVEIRA RAMOS\"],[\"SILVIA CRISTINA AMANCIO CHAGAS\"],[\"TEREZA CRISTINA CORREA DA COSTA DIAS\"],[\"LUIZA ERUNDINA DE SOUSA\"],[\"SORAYA ALENCAR DOS SANTOS\"],[\"TABATA CLAUDIA AMARAL DE PONTES\"],[\"VIVIANE DA COSTA REIS\"],[\"TALIRIA PETRONE SOARES\"],[\"LUIZIANNE DE OLIVEIRA LINS\"],[\"TEREZA NELMA DA SILVA PORTO VIANA SOARES\"],[\"MAGDA MOFATTO HON\"],[\"FABIANA SILVA DE SOUZA\"],[\"MARGARETE DE CASTRO COELHO\"],[\"MARIA DO ROS\\u00c1RIO NUNES\"],[\"CYLMARA FERNANDES DA ROCHA GRIPP\"],[\"MARIA DO PARTO MENDES ROSAS\"],[\"MARIANA FONSECA RIBEIRO CARVALHO DE MORAES\"],[\"MAR\\u00cdLIA VALEN\\u00c7A ROCHA ARRAES DE ALENCAR\"],[\"MARINA SANTOS BATISTA DIAS\"],[\"PATRICIA LIMA FERRAZ\"],[\"PAULA MORENO PARO BELMONTE\"],[\"NORMA AYUB ALVES\"],[\"MARIA PERP\\u00c9TUA DE ALMEIDA\"],[\"KATIA DA SILVA SASTRE\"],[\"NAT\\u00c1LIA BASTOS BONAVIDES\"],[\"DAYANE JAMILLE CARNEIRO DOS SANTOS PIMENTEL\"],[\"MARIA AUXILIADORA SEABRA REZENDE\"],[\"REJANE RIBEIRO SOUSA DIAS\"],[\"ROSA NEIDE SANDES DE ALMEIDA\"],[\"MARCIVANIA DO SOCORRO DA ROCHA FLEXA\"],[\"ELCIONE THEREZINHA ZAHLUTH BARBALHO\"],[\"ELIZA VIRGINIA DE SOUZA FERNANDES\"],[\"\\u00c9RIKA JUC\\u00c1 KOKAY\"],[\"FL\\u00c1VIA CAROLINA P\\u00c9RES\"],[\"FERNANDA MELCHIONNA E SILVA\"],[\"Geov\\u00e2nia de S\\u00e1\"],[\"FL\\u00c1VIA CARREIRO ALBUQUERQUE MORAIS\"],[\"GLEISI HELENA HOFFMANN\"],[\"GREYCE DE QUEIROZ ELIAS\"],[\"IRACEMA MARIA PORTELLA NUNES NOGUEIRA LIMA\"],[\"JANDIRA FEGHALI\"],[\"DIRLAINE JAQUELINE CASSOL\"],[\"JOICE CRISTINA HASSELMANN\"],[\"JOENIA BATISTA DE CARVALHO\"],[\"JESSICA ROJAS SALES\"],[\"LAURIETE RODRIGUES DE JESUS\"],[\"LEDA MARIA SADALA BRITO\"],[\"LEANDRE DAL PONTE\"],[\"L\\u00cdDICE DA MATA E SOUZA\"],[\"LIZIANE BAYER DA COSTA\"],[\"LUISA CANZIANI DOS SANTOS SILVEIRA\"]],\"hovertemplate\":\"index=%{x}<br>gasto_total_gab=%{marker.size}<br>nome=%{customdata[0]}<extra></extra>\",\"legendgroup\":\"\",\"marker\":{\"color\":\"#636efa\",\"size\":[1087816.23,1077826.83,1106146.52,1104480.65,1112857.76,938905.52,1106884.69,1076485.1,1095114.7,1015741.66,1112585.65,1012113.82,1114542.85,730045.66,1105894.42,1096371.61,1115308.02,1080042.52,1077002.9,798657.16,1114323.38,1077796.52,1116596.1,1095245.29,1114987.92,1050905.67,1099503.46,937841.64,1068591.77,1044495.31,1005945.69,1052260.59,1112429.82,702641.09,1115182.54,977905.08,1101131.44,1067668.96,987728.92,1078559.49,1109625.13,916158.19,965287.1,1074387.81,1105842.15,1115897.66,1108990.28,1106826.4,1047250.04,973451.59,806210.41,1113908.02,1109839.83,1114565.19,1081811.75,1098174.63,1112028.74,1048068.72,1074212.44,1088843.14,1055312.52,989725.85,1115589.62,1114845.39,1067534.67,1111367.61,1106991.7,1099381.29,836020.4,1102008.88,1107209.05,1096962.77,1103960.07,1073082.8,1085769.32,980822.68,1114119.12,1112229.14,1070004.37,1114161.17,1110530.22,1107177.89,961510.1,1093456.69,1062773.43,1115444.2,1113420.47,1115443.8,1098247.56,1104561.4,1084859.43,1112642.54,1112836.72,1059386.34,1026873.67,1104364.78,1113229.62,1114045.59,1091392.63,1111010.04,1092037.31,1064563.22,1102608.0,1088567.27,1087781.16,1053658.38,1103849.8,1043331.18,1111346.73,1092158.14,1061513.65,1115718.01,1083239.39,1064377.63,1113779.92,1063279.34,1116716.1,1115311.38,1106657.5,1101382.47,1079158.2,1100336.27,1077630.46,1113305.5,1085460.81,1080153.53,827780.45,1064843.64,1105379.72,1114088.41,1010908.87,1028036.37,966873.05,1116001.7,1070001.74,1107132.6,1114457.24,1115746.5,978080.61,1114014.41,1084232.34,1112738.23,1113456.25,1108661.55,1096871.16,1108460.75,1109989.13,1098429.16,1087142.69,1112307.7,1115384.57,1112741.02,1088228.66,1012698.46,1014767.71,435131.91,1079427.92,990861.14,1059385.24,1109829.63,1066482.06,1086660.28,1109765.59,1116596.6,1113579.4,1087475.42,1073734.88,1116171.1,1100076.94,1107779.47,763624.57,1114549.89,1094014.85,1112183.77,1058167.42,1109806.59,1110371.24,1115892.64,1109745.44,1107574.02,765446.22,1086804.07,1074173.97,1104641.38,958890.87,1093959.42,1115073.98,1004787.48,1058613.72,1105692.88,1095791.23,1095515.61,677075.08,1105699.54,1109289.06,1097820.85,976602.45,1112338.73,996599.97,1082807.76,1055029.87,511532.31,1010254.2,1066590.84,1108178.64,1111935.23,1105751.44,1116475.54,1106478.37,1111467.68,1105015.07,1094729.05,1112762.55,1090963.84,1007041.5,1108083.45,1101261.93,1101861.13,1042259.69,730472.1,1098429.5,1094408.85,1113759.47,980718.0,1097932.79,1098923.43,1109132.74,1041585.95,1102101.46,1114366.15,1108543.32,1102598.87,1111361.39,643704.98,1094715.33,1060727.53,1048780.85,1079907.46,1112941.73,1111690.71,1078596.19,768663.19,1104744.46,1110778.2,1109933.29,1105537.79,836796.44,1095279.82,1069836.62,729302.93,1104089.09,1080767.01,534667.18,1068647.07,1090745.07,708518.79,1113154.94,1116172.5,1105239.61,1099514.65,1113557.59,1109508.71,1064964.28,1082337.06,1049837.65,1115262.5,1107362.29,1113010.42,484425.37,1114305.26,1107759.02,1111211.14,1116110.63,1097075.16,1093222.67,1103448.31,1116110.4,1095155.55,1112052.43,1099568.37,1066238.1,1111841.14,1115363.54,1115695.05,1115705.86,1100514.06,1099891.43,1114717.9,1109317.17,1115302.39,1096276.1,1107774.27,1048327.58,782783.92,611595.71,1115080.6,977162.47,1114366.52,1114688.1,1111487.07,1116170.88,1116573.36,939350.07,1112441.45,1112441.45,1112616.52,1079408.08,1074590.09,1101716.29,1107951.8,1053984.46,85453.97,1115255.85,0.0,1081591.49,1113548.29,1112962.74,1100712.56,1113060.98,1095692.94,1113534.57,1115322.0,1113165.15,1111143.21,1071296.58,1099778.4,637942.05,1072580.28,1088859.17,1100240.21,1112005.71,1089445.65,1106747.78,703510.23,1105562.32,1114170.62,1074101.37,1083098.44,1087308.07,1115988.9,1114520.69,913256.03,1110795.89,1107163.31,1105220.16,1115576.55,1093177.33,1094487.9,408211.46,1090237.69,1104734.62,1096172.61,1095274.98,1102047.27,1102777.75,1100112.8,1110283.01,1097570.35,653485.14,1115080.2,1029677.8,1110706.61,1070076.38,685910.01,1038806.07,1063351.76,1107206.78,1108253.01,1100802.77,458319.07,1087642.74,1047581.56,0.0,757373.84,1103738.12,1109475.15,986727.25,1106538.1,1114049.3,1114575.79,1112342.45,1095690.52,981103.21,789351.13,1102763.97,910528.01,1103843.63,1112908.07,1097670.85,1091077.27,1100822.25,1050130.62,1102626.13,1109015.64,1114958.7,1073067.29,1056422.1,1089070.53,1045548.64,1112657.25,682604.66,984473.08,1088262.38,744732.36,1108885.82,1114287.26,1116014.42,1096693.18,1079760.32,1113455.24,1079379.91,1090821.34,1108625.39,1099115.16,1087643.97,1069269.96,1114463.33,0.0,1035760.26,1086780.1,1103492.51,1056090.36,1028961.46,1091268.51,1033855.08,1022389.38,1099986.55,1113310.62,1090868.22,0.0,1104968.28,584981.55,1089686.56,1099857.22,1110232.7,1115264.2,1068635.25,1112345.63,1091025.08,1101655.82,1031958.41,928898.32,1115845.95,1078709.33,1101943.16,1099930.9,1097526.02,1059539.96,1065687.38],\"sizemode\":\"area\",\"sizeref\":2791.79025,\"symbol\":\"circle\"},\"mode\":\"markers\",\"name\":\"\",\"orientation\":\"v\",\"showlegend\":false,\"x\":[0,1,2,3,4,5,6,7,8,9,10,11,12,13,14,15,16,17,18,19,20,21,22,23,24,25,26,27,28,29,30,31,32,33,34,35,36,37,38,39,40,41,42,43,44,45,46,47,48,49,50,51,52,53,54,55,56,57,58,59,60,61,62,63,64,65,66,67,68,69,70,71,72,73,74,75,76,77,78,79,80,81,82,83,84,85,86,87,88,89,90,91,92,93,94,95,96,97,98,99,100,101,102,103,104,105,106,107,108,109,110,111,112,113,114,115,116,117,118,119,120,121,122,123,124,125,126,127,128,129,130,131,132,133,134,135,136,137,138,139,140,141,142,143,144,145,146,147,148,149,150,151,152,153,154,155,156,157,158,159,160,161,162,163,164,165,166,167,168,169,170,171,172,173,174,175,176,177,178,179,180,181,182,183,184,185,186,187,188,189,190,191,192,193,194,195,196,197,198,199,200,201,202,203,204,205,206,207,208,209,210,211,212,213,214,215,216,217,218,219,220,221,222,223,224,225,226,227,228,229,230,231,232,233,234,235,236,237,238,239,240,241,242,243,244,245,246,247,248,249,250,251,252,253,254,255,256,257,258,259,260,261,262,263,264,265,266,267,268,269,270,271,272,273,274,275,276,277,278,279,280,281,282,283,284,285,286,287,288,289,290,291,292,293,294,295,296,297,298,299,300,301,302,303,304,305,306,307,308,309,310,311,312,313,314,315,316,317,318,319,320,321,322,323,324,325,326,327,328,329,330,331,332,333,334,335,336,337,338,339,340,341,342,343,344,345,346,347,348,349,350,351,352,353,354,355,356,357,358,359,360,361,362,363,364,365,366,367,368,369,370,371,372,373,374,375,376,377,378,379,380,381,382,383,384,385,386,387,388,389,390,391,392,393,394,395,396,397,398,399,400,401,402,403,404,405,406,407,408,409,410,411,412,413,414,415,416,417,418,419,420,421,422,423,424,425,426,427,428,429,430,431,432,433,434,435,436,437,438,439,440,441,442,443,444,445,446,447,448],\"xaxis\":\"x\",\"y\":[1087816.23,1077826.83,1106146.52,1104480.65,1112857.76,938905.52,1106884.69,1076485.1,1095114.7,1015741.66,1112585.65,1012113.82,1114542.85,730045.66,1105894.42,1096371.61,1115308.02,1080042.52,1077002.9,798657.16,1114323.38,1077796.52,1116596.1,1095245.29,1114987.92,1050905.67,1099503.46,937841.64,1068591.77,1044495.31,1005945.69,1052260.59,1112429.82,702641.09,1115182.54,977905.08,1101131.44,1067668.96,987728.92,1078559.49,1109625.13,916158.19,965287.1,1074387.81,1105842.15,1115897.66,1108990.28,1106826.4,1047250.04,973451.59,806210.41,1113908.02,1109839.83,1114565.19,1081811.75,1098174.63,1112028.74,1048068.72,1074212.44,1088843.14,1055312.52,989725.85,1115589.62,1114845.39,1067534.67,1111367.61,1106991.7,1099381.29,836020.4,1102008.88,1107209.05,1096962.77,1103960.07,1073082.8,1085769.32,980822.68,1114119.12,1112229.14,1070004.37,1114161.17,1110530.22,1107177.89,961510.1,1093456.69,1062773.43,1115444.2,1113420.47,1115443.8,1098247.56,1104561.4,1084859.43,1112642.54,1112836.72,1059386.34,1026873.67,1104364.78,1113229.62,1114045.59,1091392.63,1111010.04,1092037.31,1064563.22,1102608.0,1088567.27,1087781.16,1053658.38,1103849.8,1043331.18,1111346.73,1092158.14,1061513.65,1115718.01,1083239.39,1064377.63,1113779.92,1063279.34,1116716.1,1115311.38,1106657.5,1101382.47,1079158.2,1100336.27,1077630.46,1113305.5,1085460.81,1080153.53,827780.45,1064843.64,1105379.72,1114088.41,1010908.87,1028036.37,966873.05,1116001.7,1070001.74,1107132.6,1114457.24,1115746.5,978080.61,1114014.41,1084232.34,1112738.23,1113456.25,1108661.55,1096871.16,1108460.75,1109989.13,1098429.16,1087142.69,1112307.7,1115384.57,1112741.02,1088228.66,1012698.46,1014767.71,435131.91,1079427.92,990861.14,1059385.24,1109829.63,1066482.06,1086660.28,1109765.59,1116596.6,1113579.4,1087475.42,1073734.88,1116171.1,1100076.94,1107779.47,763624.57,1114549.89,1094014.85,1112183.77,1058167.42,1109806.59,1110371.24,1115892.64,1109745.44,1107574.02,765446.22,1086804.07,1074173.97,1104641.38,958890.87,1093959.42,1115073.98,1004787.48,1058613.72,1105692.88,1095791.23,1095515.61,677075.08,1105699.54,1109289.06,1097820.85,976602.45,1112338.73,996599.97,1082807.76,1055029.87,511532.31,1010254.2,1066590.84,1108178.64,1111935.23,1105751.44,1116475.54,1106478.37,1111467.68,1105015.07,1094729.05,1112762.55,1090963.84,1007041.5,1108083.45,1101261.93,1101861.13,1042259.69,730472.1,1098429.5,1094408.85,1113759.47,980718.0,1097932.79,1098923.43,1109132.74,1041585.95,1102101.46,1114366.15,1108543.32,1102598.87,1111361.39,643704.98,1094715.33,1060727.53,1048780.85,1079907.46,1112941.73,1111690.71,1078596.19,768663.19,1104744.46,1110778.2,1109933.29,1105537.79,836796.44,1095279.82,1069836.62,729302.93,1104089.09,1080767.01,534667.18,1068647.07,1090745.07,708518.79,1113154.94,1116172.5,1105239.61,1099514.65,1113557.59,1109508.71,1064964.28,1082337.06,1049837.65,1115262.5,1107362.29,1113010.42,484425.37,1114305.26,1107759.02,1111211.14,1116110.63,1097075.16,1093222.67,1103448.31,1116110.4,1095155.55,1112052.43,1099568.37,1066238.1,1111841.14,1115363.54,1115695.05,1115705.86,1100514.06,1099891.43,1114717.9,1109317.17,1115302.39,1096276.1,1107774.27,1048327.58,782783.92,611595.71,1115080.6,977162.47,1114366.52,1114688.1,1111487.07,1116170.88,1116573.36,939350.07,1112441.45,1112441.45,1112616.52,1079408.08,1074590.09,1101716.29,1107951.8,1053984.46,85453.97,1115255.85,0.0,1081591.49,1113548.29,1112962.74,1100712.56,1113060.98,1095692.94,1113534.57,1115322.0,1113165.15,1111143.21,1071296.58,1099778.4,637942.05,1072580.28,1088859.17,1100240.21,1112005.71,1089445.65,1106747.78,703510.23,1105562.32,1114170.62,1074101.37,1083098.44,1087308.07,1115988.9,1114520.69,913256.03,1110795.89,1107163.31,1105220.16,1115576.55,1093177.33,1094487.9,408211.46,1090237.69,1104734.62,1096172.61,1095274.98,1102047.27,1102777.75,1100112.8,1110283.01,1097570.35,653485.14,1115080.2,1029677.8,1110706.61,1070076.38,685910.01,1038806.07,1063351.76,1107206.78,1108253.01,1100802.77,458319.07,1087642.74,1047581.56,0.0,757373.84,1103738.12,1109475.15,986727.25,1106538.1,1114049.3,1114575.79,1112342.45,1095690.52,981103.21,789351.13,1102763.97,910528.01,1103843.63,1112908.07,1097670.85,1091077.27,1100822.25,1050130.62,1102626.13,1109015.64,1114958.7,1073067.29,1056422.1,1089070.53,1045548.64,1112657.25,682604.66,984473.08,1088262.38,744732.36,1108885.82,1114287.26,1116014.42,1096693.18,1079760.32,1113455.24,1079379.91,1090821.34,1108625.39,1099115.16,1087643.97,1069269.96,1114463.33,0.0,1035760.26,1086780.1,1103492.51,1056090.36,1028961.46,1091268.51,1033855.08,1022389.38,1099986.55,1113310.62,1090868.22,0.0,1104968.28,584981.55,1089686.56,1099857.22,1110232.7,1115264.2,1068635.25,1112345.63,1091025.08,1101655.82,1031958.41,928898.32,1115845.95,1078709.33,1101943.16,1099930.9,1097526.02,1059539.96,1065687.38],\"yaxis\":\"y\",\"type\":\"scatter\"}],                        {\"template\":{\"data\":{\"bar\":[{\"error_x\":{\"color\":\"#2a3f5f\"},\"error_y\":{\"color\":\"#2a3f5f\"},\"marker\":{\"line\":{\"color\":\"#E5ECF6\",\"width\":0.5},\"pattern\":{\"fillmode\":\"overlay\",\"size\":10,\"solidity\":0.2}},\"type\":\"bar\"}],\"barpolar\":[{\"marker\":{\"line\":{\"color\":\"#E5ECF6\",\"width\":0.5},\"pattern\":{\"fillmode\":\"overlay\",\"size\":10,\"solidity\":0.2}},\"type\":\"barpolar\"}],\"carpet\":[{\"aaxis\":{\"endlinecolor\":\"#2a3f5f\",\"gridcolor\":\"white\",\"linecolor\":\"white\",\"minorgridcolor\":\"white\",\"startlinecolor\":\"#2a3f5f\"},\"baxis\":{\"endlinecolor\":\"#2a3f5f\",\"gridcolor\":\"white\",\"linecolor\":\"white\",\"minorgridcolor\":\"white\",\"startlinecolor\":\"#2a3f5f\"},\"type\":\"carpet\"}],\"choropleth\":[{\"colorbar\":{\"outlinewidth\":0,\"ticks\":\"\"},\"type\":\"choropleth\"}],\"contour\":[{\"colorbar\":{\"outlinewidth\":0,\"ticks\":\"\"},\"colorscale\":[[0.0,\"#0d0887\"],[0.1111111111111111,\"#46039f\"],[0.2222222222222222,\"#7201a8\"],[0.3333333333333333,\"#9c179e\"],[0.4444444444444444,\"#bd3786\"],[0.5555555555555556,\"#d8576b\"],[0.6666666666666666,\"#ed7953\"],[0.7777777777777778,\"#fb9f3a\"],[0.8888888888888888,\"#fdca26\"],[1.0,\"#f0f921\"]],\"type\":\"contour\"}],\"contourcarpet\":[{\"colorbar\":{\"outlinewidth\":0,\"ticks\":\"\"},\"type\":\"contourcarpet\"}],\"heatmap\":[{\"colorbar\":{\"outlinewidth\":0,\"ticks\":\"\"},\"colorscale\":[[0.0,\"#0d0887\"],[0.1111111111111111,\"#46039f\"],[0.2222222222222222,\"#7201a8\"],[0.3333333333333333,\"#9c179e\"],[0.4444444444444444,\"#bd3786\"],[0.5555555555555556,\"#d8576b\"],[0.6666666666666666,\"#ed7953\"],[0.7777777777777778,\"#fb9f3a\"],[0.8888888888888888,\"#fdca26\"],[1.0,\"#f0f921\"]],\"type\":\"heatmap\"}],\"heatmapgl\":[{\"colorbar\":{\"outlinewidth\":0,\"ticks\":\"\"},\"colorscale\":[[0.0,\"#0d0887\"],[0.1111111111111111,\"#46039f\"],[0.2222222222222222,\"#7201a8\"],[0.3333333333333333,\"#9c179e\"],[0.4444444444444444,\"#bd3786\"],[0.5555555555555556,\"#d8576b\"],[0.6666666666666666,\"#ed7953\"],[0.7777777777777778,\"#fb9f3a\"],[0.8888888888888888,\"#fdca26\"],[1.0,\"#f0f921\"]],\"type\":\"heatmapgl\"}],\"histogram\":[{\"marker\":{\"pattern\":{\"fillmode\":\"overlay\",\"size\":10,\"solidity\":0.2}},\"type\":\"histogram\"}],\"histogram2d\":[{\"colorbar\":{\"outlinewidth\":0,\"ticks\":\"\"},\"colorscale\":[[0.0,\"#0d0887\"],[0.1111111111111111,\"#46039f\"],[0.2222222222222222,\"#7201a8\"],[0.3333333333333333,\"#9c179e\"],[0.4444444444444444,\"#bd3786\"],[0.5555555555555556,\"#d8576b\"],[0.6666666666666666,\"#ed7953\"],[0.7777777777777778,\"#fb9f3a\"],[0.8888888888888888,\"#fdca26\"],[1.0,\"#f0f921\"]],\"type\":\"histogram2d\"}],\"histogram2dcontour\":[{\"colorbar\":{\"outlinewidth\":0,\"ticks\":\"\"},\"colorscale\":[[0.0,\"#0d0887\"],[0.1111111111111111,\"#46039f\"],[0.2222222222222222,\"#7201a8\"],[0.3333333333333333,\"#9c179e\"],[0.4444444444444444,\"#bd3786\"],[0.5555555555555556,\"#d8576b\"],[0.6666666666666666,\"#ed7953\"],[0.7777777777777778,\"#fb9f3a\"],[0.8888888888888888,\"#fdca26\"],[1.0,\"#f0f921\"]],\"type\":\"histogram2dcontour\"}],\"mesh3d\":[{\"colorbar\":{\"outlinewidth\":0,\"ticks\":\"\"},\"type\":\"mesh3d\"}],\"parcoords\":[{\"line\":{\"colorbar\":{\"outlinewidth\":0,\"ticks\":\"\"}},\"type\":\"parcoords\"}],\"pie\":[{\"automargin\":true,\"type\":\"pie\"}],\"scatter\":[{\"marker\":{\"colorbar\":{\"outlinewidth\":0,\"ticks\":\"\"}},\"type\":\"scatter\"}],\"scatter3d\":[{\"line\":{\"colorbar\":{\"outlinewidth\":0,\"ticks\":\"\"}},\"marker\":{\"colorbar\":{\"outlinewidth\":0,\"ticks\":\"\"}},\"type\":\"scatter3d\"}],\"scattercarpet\":[{\"marker\":{\"colorbar\":{\"outlinewidth\":0,\"ticks\":\"\"}},\"type\":\"scattercarpet\"}],\"scattergeo\":[{\"marker\":{\"colorbar\":{\"outlinewidth\":0,\"ticks\":\"\"}},\"type\":\"scattergeo\"}],\"scattergl\":[{\"marker\":{\"colorbar\":{\"outlinewidth\":0,\"ticks\":\"\"}},\"type\":\"scattergl\"}],\"scattermapbox\":[{\"marker\":{\"colorbar\":{\"outlinewidth\":0,\"ticks\":\"\"}},\"type\":\"scattermapbox\"}],\"scatterpolar\":[{\"marker\":{\"colorbar\":{\"outlinewidth\":0,\"ticks\":\"\"}},\"type\":\"scatterpolar\"}],\"scatterpolargl\":[{\"marker\":{\"colorbar\":{\"outlinewidth\":0,\"ticks\":\"\"}},\"type\":\"scatterpolargl\"}],\"scatterternary\":[{\"marker\":{\"colorbar\":{\"outlinewidth\":0,\"ticks\":\"\"}},\"type\":\"scatterternary\"}],\"surface\":[{\"colorbar\":{\"outlinewidth\":0,\"ticks\":\"\"},\"colorscale\":[[0.0,\"#0d0887\"],[0.1111111111111111,\"#46039f\"],[0.2222222222222222,\"#7201a8\"],[0.3333333333333333,\"#9c179e\"],[0.4444444444444444,\"#bd3786\"],[0.5555555555555556,\"#d8576b\"],[0.6666666666666666,\"#ed7953\"],[0.7777777777777778,\"#fb9f3a\"],[0.8888888888888888,\"#fdca26\"],[1.0,\"#f0f921\"]],\"type\":\"surface\"}],\"table\":[{\"cells\":{\"fill\":{\"color\":\"#EBF0F8\"},\"line\":{\"color\":\"white\"}},\"header\":{\"fill\":{\"color\":\"#C8D4E3\"},\"line\":{\"color\":\"white\"}},\"type\":\"table\"}]},\"layout\":{\"annotationdefaults\":{\"arrowcolor\":\"#2a3f5f\",\"arrowhead\":0,\"arrowwidth\":1},\"autotypenumbers\":\"strict\",\"coloraxis\":{\"colorbar\":{\"outlinewidth\":0,\"ticks\":\"\"}},\"colorscale\":{\"diverging\":[[0,\"#8e0152\"],[0.1,\"#c51b7d\"],[0.2,\"#de77ae\"],[0.3,\"#f1b6da\"],[0.4,\"#fde0ef\"],[0.5,\"#f7f7f7\"],[0.6,\"#e6f5d0\"],[0.7,\"#b8e186\"],[0.8,\"#7fbc41\"],[0.9,\"#4d9221\"],[1,\"#276419\"]],\"sequential\":[[0.0,\"#0d0887\"],[0.1111111111111111,\"#46039f\"],[0.2222222222222222,\"#7201a8\"],[0.3333333333333333,\"#9c179e\"],[0.4444444444444444,\"#bd3786\"],[0.5555555555555556,\"#d8576b\"],[0.6666666666666666,\"#ed7953\"],[0.7777777777777778,\"#fb9f3a\"],[0.8888888888888888,\"#fdca26\"],[1.0,\"#f0f921\"]],\"sequentialminus\":[[0.0,\"#0d0887\"],[0.1111111111111111,\"#46039f\"],[0.2222222222222222,\"#7201a8\"],[0.3333333333333333,\"#9c179e\"],[0.4444444444444444,\"#bd3786\"],[0.5555555555555556,\"#d8576b\"],[0.6666666666666666,\"#ed7953\"],[0.7777777777777778,\"#fb9f3a\"],[0.8888888888888888,\"#fdca26\"],[1.0,\"#f0f921\"]]},\"colorway\":[\"#636efa\",\"#EF553B\",\"#00cc96\",\"#ab63fa\",\"#FFA15A\",\"#19d3f3\",\"#FF6692\",\"#B6E880\",\"#FF97FF\",\"#FECB52\"],\"font\":{\"color\":\"#2a3f5f\"},\"geo\":{\"bgcolor\":\"white\",\"lakecolor\":\"white\",\"landcolor\":\"#E5ECF6\",\"showlakes\":true,\"showland\":true,\"subunitcolor\":\"white\"},\"hoverlabel\":{\"align\":\"left\"},\"hovermode\":\"closest\",\"mapbox\":{\"style\":\"light\"},\"paper_bgcolor\":\"white\",\"plot_bgcolor\":\"#E5ECF6\",\"polar\":{\"angularaxis\":{\"gridcolor\":\"white\",\"linecolor\":\"white\",\"ticks\":\"\"},\"bgcolor\":\"#E5ECF6\",\"radialaxis\":{\"gridcolor\":\"white\",\"linecolor\":\"white\",\"ticks\":\"\"}},\"scene\":{\"xaxis\":{\"backgroundcolor\":\"#E5ECF6\",\"gridcolor\":\"white\",\"gridwidth\":2,\"linecolor\":\"white\",\"showbackground\":true,\"ticks\":\"\",\"zerolinecolor\":\"white\"},\"yaxis\":{\"backgroundcolor\":\"#E5ECF6\",\"gridcolor\":\"white\",\"gridwidth\":2,\"linecolor\":\"white\",\"showbackground\":true,\"ticks\":\"\",\"zerolinecolor\":\"white\"},\"zaxis\":{\"backgroundcolor\":\"#E5ECF6\",\"gridcolor\":\"white\",\"gridwidth\":2,\"linecolor\":\"white\",\"showbackground\":true,\"ticks\":\"\",\"zerolinecolor\":\"white\"}},\"shapedefaults\":{\"line\":{\"color\":\"#2a3f5f\"}},\"ternary\":{\"aaxis\":{\"gridcolor\":\"white\",\"linecolor\":\"white\",\"ticks\":\"\"},\"baxis\":{\"gridcolor\":\"white\",\"linecolor\":\"white\",\"ticks\":\"\"},\"bgcolor\":\"#E5ECF6\",\"caxis\":{\"gridcolor\":\"white\",\"linecolor\":\"white\",\"ticks\":\"\"}},\"title\":{\"x\":0.05},\"xaxis\":{\"automargin\":true,\"gridcolor\":\"white\",\"linecolor\":\"white\",\"ticks\":\"\",\"title\":{\"standoff\":15},\"zerolinecolor\":\"white\",\"zerolinewidth\":2},\"yaxis\":{\"automargin\":true,\"gridcolor\":\"white\",\"linecolor\":\"white\",\"ticks\":\"\",\"title\":{\"standoff\":15},\"zerolinecolor\":\"white\",\"zerolinewidth\":2}}},\"xaxis\":{\"anchor\":\"y\",\"domain\":[0.0,1.0],\"title\":{\"text\":\"\\u00cdndice\"}},\"yaxis\":{\"anchor\":\"x\",\"domain\":[0.0,1.0],\"title\":{\"text\":\"Total de gasto no gabinete\"}},\"legend\":{\"tracegroupgap\":0,\"itemsizing\":\"constant\"},\"margin\":{\"t\":60},\"title\":{\"text\":\"<b>Gasto total no gabinete para cada deputado(a)</b>\",\"x\":0.5,\"xanchor\":\"center\"}},                        {\"responsive\": true}                    ).then(function(){\n",
              "                            \n",
              "var gd = document.getElementById('5e0c7cf7-1712-41a0-9a7f-bf8d354ffcdd');\n",
              "var x = new MutationObserver(function (mutations, observer) {{\n",
              "        var display = window.getComputedStyle(gd).display;\n",
              "        if (!display || display === 'none') {{\n",
              "            console.log([gd, 'removed!']);\n",
              "            Plotly.purge(gd);\n",
              "            observer.disconnect();\n",
              "        }}\n",
              "}});\n",
              "\n",
              "// Listen for the removal of the full notebook cells\n",
              "var notebookContainer = gd.closest('#notebook-container');\n",
              "if (notebookContainer) {{\n",
              "    x.observe(notebookContainer, {childList: true});\n",
              "}}\n",
              "\n",
              "// Listen for the clearing of the current output cell\n",
              "var outputEl = gd.closest('.output');\n",
              "if (outputEl) {{\n",
              "    x.observe(outputEl, {childList: true});\n",
              "}}\n",
              "\n",
              "                        })                };                            </script>        </div>\n",
              "</body>\n",
              "</html>"
            ]
          },
          "metadata": {}
        }
      ]
    },
    {
      "cell_type": "markdown",
      "source": [
        "# Implementações EXTRAS / RASCUNHO\n",
        "\n",
        "Caso tenha implementado mais coisas do que foi pedido, coloque-as a partir deste ponto, para deixar a parte anterior mais limpa.\n",
        "\n",
        "Fique totalmente à vontade para colocar qualquer coisa aqui, com ou sem comentários. É como o rascunho de uma prova... não será corrigido."
      ],
      "metadata": {
        "id": "uwvIKCAzH63e"
      }
    },
    {
      "cell_type": "code",
      "source": [
        "#"
      ],
      "metadata": {
        "id": "_EXWRSFrH84-"
      },
      "execution_count": 46,
      "outputs": []
    },
    {
      "cell_type": "code",
      "source": [
        "#"
      ],
      "metadata": {
        "id": "U-A8sfurIIJg"
      },
      "execution_count": 47,
      "outputs": []
    }
  ]
}